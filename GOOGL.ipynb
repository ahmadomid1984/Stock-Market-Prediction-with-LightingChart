{
 "cells": [
  {
   "cell_type": "code",
   "execution_count": 1,
   "metadata": {},
   "outputs": [],
   "source": [
    "import lightningchart as lc\n",
    "import random\n",
    "lc.set_license('my-license-key')\n",
    "\n",
    "import numpy as np\n",
    "import pandas as pd\n",
    "\n",
    "import math\n",
    "from datetime import datetime\n",
    "from sklearn.preprocessing import MinMaxScaler\n",
    "from sklearn.metrics import mean_squared_error, mean_absolute_error, r2_score\n",
    "\n",
    "from tensorflow import keras\n",
    "from tensorflow.keras.models import Sequential\n",
    "from tensorflow.keras.layers import Dense, LSTM\n"
   ]
  },
  {
   "cell_type": "code",
   "execution_count": 2,
   "metadata": {},
   "outputs": [
    {
     "data": {
      "text/html": [
       "<div>\n",
       "<style scoped>\n",
       "    .dataframe tbody tr th:only-of-type {\n",
       "        vertical-align: middle;\n",
       "    }\n",
       "\n",
       "    .dataframe tbody tr th {\n",
       "        vertical-align: top;\n",
       "    }\n",
       "\n",
       "    .dataframe thead th {\n",
       "        text-align: right;\n",
       "    }\n",
       "</style>\n",
       "<table border=\"1\" class=\"dataframe\">\n",
       "  <thead>\n",
       "    <tr style=\"text-align: right;\">\n",
       "      <th></th>\n",
       "      <th>Date</th>\n",
       "      <th>Open</th>\n",
       "      <th>High</th>\n",
       "      <th>Low</th>\n",
       "      <th>Close</th>\n",
       "      <th>Volume</th>\n",
       "    </tr>\n",
       "  </thead>\n",
       "  <tbody>\n",
       "    <tr>\n",
       "      <th>0</th>\n",
       "      <td>2004-08-19</td>\n",
       "      <td>2.508</td>\n",
       "      <td>2.610</td>\n",
       "      <td>2.406</td>\n",
       "      <td>2.516</td>\n",
       "      <td>44659000</td>\n",
       "    </tr>\n",
       "    <tr>\n",
       "      <th>1</th>\n",
       "      <td>2004-08-20</td>\n",
       "      <td>2.533</td>\n",
       "      <td>2.735</td>\n",
       "      <td>2.520</td>\n",
       "      <td>2.716</td>\n",
       "      <td>22834300</td>\n",
       "    </tr>\n",
       "    <tr>\n",
       "      <th>2</th>\n",
       "      <td>2004-08-23</td>\n",
       "      <td>2.778</td>\n",
       "      <td>2.846</td>\n",
       "      <td>2.735</td>\n",
       "      <td>2.743</td>\n",
       "      <td>18256100</td>\n",
       "    </tr>\n",
       "    <tr>\n",
       "      <th>3</th>\n",
       "      <td>2004-08-24</td>\n",
       "      <td>2.790</td>\n",
       "      <td>2.799</td>\n",
       "      <td>2.597</td>\n",
       "      <td>2.630</td>\n",
       "      <td>15247300</td>\n",
       "    </tr>\n",
       "    <tr>\n",
       "      <th>4</th>\n",
       "      <td>2004-08-25</td>\n",
       "      <td>2.627</td>\n",
       "      <td>2.708</td>\n",
       "      <td>2.605</td>\n",
       "      <td>2.658</td>\n",
       "      <td>9188600</td>\n",
       "    </tr>\n",
       "  </tbody>\n",
       "</table>\n",
       "</div>"
      ],
      "text/plain": [
       "         Date   Open   High    Low  Close    Volume\n",
       "0  2004-08-19  2.508  2.610  2.406  2.516  44659000\n",
       "1  2004-08-20  2.533  2.735  2.520  2.716  22834300\n",
       "2  2004-08-23  2.778  2.846  2.735  2.743  18256100\n",
       "3  2004-08-24  2.790  2.799  2.597  2.630  15247300\n",
       "4  2004-08-25  2.627  2.708  2.605  2.658   9188600"
      ]
     },
     "execution_count": 2,
     "metadata": {},
     "output_type": "execute_result"
    }
   ],
   "source": [
    "# Import dataset\n",
    "df_googl = pd.read_csv('./Alphabet Inc - Class A (GOOGL).csv')\n",
    "df_googl.head()"
   ]
  },
  {
   "cell_type": "code",
   "execution_count": 3,
   "metadata": {},
   "outputs": [
    {
     "data": {
      "text/html": [
       "<div>\n",
       "<style scoped>\n",
       "    .dataframe tbody tr th:only-of-type {\n",
       "        vertical-align: middle;\n",
       "    }\n",
       "\n",
       "    .dataframe tbody tr th {\n",
       "        vertical-align: top;\n",
       "    }\n",
       "\n",
       "    .dataframe thead th {\n",
       "        text-align: right;\n",
       "    }\n",
       "</style>\n",
       "<table border=\"1\" class=\"dataframe\">\n",
       "  <thead>\n",
       "    <tr style=\"text-align: right;\">\n",
       "      <th></th>\n",
       "      <th>date</th>\n",
       "      <th>open</th>\n",
       "      <th>high</th>\n",
       "      <th>low</th>\n",
       "      <th>close</th>\n",
       "      <th>Volume</th>\n",
       "    </tr>\n",
       "  </thead>\n",
       "  <tbody>\n",
       "    <tr>\n",
       "      <th>0</th>\n",
       "      <td>2004-08-19</td>\n",
       "      <td>2.508</td>\n",
       "      <td>2.610</td>\n",
       "      <td>2.406</td>\n",
       "      <td>2.516</td>\n",
       "      <td>44659000</td>\n",
       "    </tr>\n",
       "    <tr>\n",
       "      <th>1</th>\n",
       "      <td>2004-08-20</td>\n",
       "      <td>2.533</td>\n",
       "      <td>2.735</td>\n",
       "      <td>2.520</td>\n",
       "      <td>2.716</td>\n",
       "      <td>22834300</td>\n",
       "    </tr>\n",
       "    <tr>\n",
       "      <th>2</th>\n",
       "      <td>2004-08-23</td>\n",
       "      <td>2.778</td>\n",
       "      <td>2.846</td>\n",
       "      <td>2.735</td>\n",
       "      <td>2.743</td>\n",
       "      <td>18256100</td>\n",
       "    </tr>\n",
       "    <tr>\n",
       "      <th>3</th>\n",
       "      <td>2004-08-24</td>\n",
       "      <td>2.790</td>\n",
       "      <td>2.799</td>\n",
       "      <td>2.597</td>\n",
       "      <td>2.630</td>\n",
       "      <td>15247300</td>\n",
       "    </tr>\n",
       "    <tr>\n",
       "      <th>4</th>\n",
       "      <td>2004-08-25</td>\n",
       "      <td>2.627</td>\n",
       "      <td>2.708</td>\n",
       "      <td>2.605</td>\n",
       "      <td>2.658</td>\n",
       "      <td>9188600</td>\n",
       "    </tr>\n",
       "  </tbody>\n",
       "</table>\n",
       "</div>"
      ],
      "text/plain": [
       "         date   open   high    low  close    Volume\n",
       "0  2004-08-19  2.508  2.610  2.406  2.516  44659000\n",
       "1  2004-08-20  2.533  2.735  2.520  2.716  22834300\n",
       "2  2004-08-23  2.778  2.846  2.735  2.743  18256100\n",
       "3  2004-08-24  2.790  2.799  2.597  2.630  15247300\n",
       "4  2004-08-25  2.627  2.708  2.605  2.658   9188600"
      ]
     },
     "execution_count": 3,
     "metadata": {},
     "output_type": "execute_result"
    }
   ],
   "source": [
    "# Rename columns\n",
    "df_googl.rename(columns={\"Date\":\"date\",\"Open\":\"open\",\"High\":\"high\",\"Low\":\"low\",\"Close\":\"close\"}, inplace= True)\n",
    "df_googl.head()"
   ]
  },
  {
   "cell_type": "code",
   "execution_count": 4,
   "metadata": {},
   "outputs": [
    {
     "data": {
      "text/html": [
       "<div>\n",
       "<style scoped>\n",
       "    .dataframe tbody tr th:only-of-type {\n",
       "        vertical-align: middle;\n",
       "    }\n",
       "\n",
       "    .dataframe tbody tr th {\n",
       "        vertical-align: top;\n",
       "    }\n",
       "\n",
       "    .dataframe thead th {\n",
       "        text-align: right;\n",
       "    }\n",
       "</style>\n",
       "<table border=\"1\" class=\"dataframe\">\n",
       "  <thead>\n",
       "    <tr style=\"text-align: right;\">\n",
       "      <th></th>\n",
       "      <th>date</th>\n",
       "      <th>open</th>\n",
       "      <th>high</th>\n",
       "      <th>low</th>\n",
       "      <th>close</th>\n",
       "      <th>Volume</th>\n",
       "    </tr>\n",
       "  </thead>\n",
       "  <tbody>\n",
       "    <tr>\n",
       "      <th>0</th>\n",
       "      <td>2004-08-19</td>\n",
       "      <td>2.508</td>\n",
       "      <td>2.610</td>\n",
       "      <td>2.406</td>\n",
       "      <td>2.516</td>\n",
       "      <td>44659000</td>\n",
       "    </tr>\n",
       "    <tr>\n",
       "      <th>1</th>\n",
       "      <td>2004-08-20</td>\n",
       "      <td>2.533</td>\n",
       "      <td>2.735</td>\n",
       "      <td>2.520</td>\n",
       "      <td>2.716</td>\n",
       "      <td>22834300</td>\n",
       "    </tr>\n",
       "    <tr>\n",
       "      <th>2</th>\n",
       "      <td>2004-08-23</td>\n",
       "      <td>2.778</td>\n",
       "      <td>2.846</td>\n",
       "      <td>2.735</td>\n",
       "      <td>2.743</td>\n",
       "      <td>18256100</td>\n",
       "    </tr>\n",
       "    <tr>\n",
       "      <th>3</th>\n",
       "      <td>2004-08-24</td>\n",
       "      <td>2.790</td>\n",
       "      <td>2.799</td>\n",
       "      <td>2.597</td>\n",
       "      <td>2.630</td>\n",
       "      <td>15247300</td>\n",
       "    </tr>\n",
       "    <tr>\n",
       "      <th>4</th>\n",
       "      <td>2004-08-25</td>\n",
       "      <td>2.627</td>\n",
       "      <td>2.708</td>\n",
       "      <td>2.605</td>\n",
       "      <td>2.658</td>\n",
       "      <td>9188600</td>\n",
       "    </tr>\n",
       "  </tbody>\n",
       "</table>\n",
       "</div>"
      ],
      "text/plain": [
       "        date   open   high    low  close    Volume\n",
       "0 2004-08-19  2.508  2.610  2.406  2.516  44659000\n",
       "1 2004-08-20  2.533  2.735  2.520  2.716  22834300\n",
       "2 2004-08-23  2.778  2.846  2.735  2.743  18256100\n",
       "3 2004-08-24  2.790  2.799  2.597  2.630  15247300\n",
       "4 2004-08-25  2.627  2.708  2.605  2.658   9188600"
      ]
     },
     "execution_count": 4,
     "metadata": {},
     "output_type": "execute_result"
    }
   ],
   "source": [
    "# convert date field from string to Date format and make it index\n",
    "df_googl['date'] = pd.to_datetime(df_googl.date)\n",
    "df_googl.head()"
   ]
  },
  {
   "cell_type": "code",
   "execution_count": 5,
   "metadata": {},
   "outputs": [
    {
     "data": {
      "text/html": [
       "<div>\n",
       "<style scoped>\n",
       "    .dataframe tbody tr th:only-of-type {\n",
       "        vertical-align: middle;\n",
       "    }\n",
       "\n",
       "    .dataframe tbody tr th {\n",
       "        vertical-align: top;\n",
       "    }\n",
       "\n",
       "    .dataframe thead th {\n",
       "        text-align: right;\n",
       "    }\n",
       "</style>\n",
       "<table border=\"1\" class=\"dataframe\">\n",
       "  <thead>\n",
       "    <tr style=\"text-align: right;\">\n",
       "      <th></th>\n",
       "      <th>date</th>\n",
       "      <th>open</th>\n",
       "      <th>high</th>\n",
       "      <th>low</th>\n",
       "      <th>close</th>\n",
       "      <th>Volume</th>\n",
       "    </tr>\n",
       "  </thead>\n",
       "  <tbody>\n",
       "    <tr>\n",
       "      <th>0</th>\n",
       "      <td>2004-08-19</td>\n",
       "      <td>2.508</td>\n",
       "      <td>2.610</td>\n",
       "      <td>2.406</td>\n",
       "      <td>2.516</td>\n",
       "      <td>44659000</td>\n",
       "    </tr>\n",
       "    <tr>\n",
       "      <th>1</th>\n",
       "      <td>2004-08-20</td>\n",
       "      <td>2.533</td>\n",
       "      <td>2.735</td>\n",
       "      <td>2.520</td>\n",
       "      <td>2.716</td>\n",
       "      <td>22834300</td>\n",
       "    </tr>\n",
       "    <tr>\n",
       "      <th>2</th>\n",
       "      <td>2004-08-23</td>\n",
       "      <td>2.778</td>\n",
       "      <td>2.846</td>\n",
       "      <td>2.735</td>\n",
       "      <td>2.743</td>\n",
       "      <td>18256100</td>\n",
       "    </tr>\n",
       "    <tr>\n",
       "      <th>3</th>\n",
       "      <td>2004-08-24</td>\n",
       "      <td>2.790</td>\n",
       "      <td>2.799</td>\n",
       "      <td>2.597</td>\n",
       "      <td>2.630</td>\n",
       "      <td>15247300</td>\n",
       "    </tr>\n",
       "    <tr>\n",
       "      <th>4</th>\n",
       "      <td>2004-08-25</td>\n",
       "      <td>2.627</td>\n",
       "      <td>2.708</td>\n",
       "      <td>2.605</td>\n",
       "      <td>2.658</td>\n",
       "      <td>9188600</td>\n",
       "    </tr>\n",
       "  </tbody>\n",
       "</table>\n",
       "</div>"
      ],
      "text/plain": [
       "        date   open   high    low  close    Volume\n",
       "0 2004-08-19  2.508  2.610  2.406  2.516  44659000\n",
       "1 2004-08-20  2.533  2.735  2.520  2.716  22834300\n",
       "2 2004-08-23  2.778  2.846  2.735  2.743  18256100\n",
       "3 2004-08-24  2.790  2.799  2.597  2.630  15247300\n",
       "4 2004-08-25  2.627  2.708  2.605  2.658   9188600"
      ]
     },
     "execution_count": 5,
     "metadata": {},
     "output_type": "execute_result"
    }
   ],
   "source": [
    "# Sorting dataset by date format\n",
    "df_googl.sort_values(by='date', inplace=True)\n",
    "df_googl.head()"
   ]
  },
  {
   "cell_type": "code",
   "execution_count": 6,
   "metadata": {},
   "outputs": [
    {
     "data": {
      "text/plain": [
       "(4968, 6)"
      ]
     },
     "execution_count": 6,
     "metadata": {},
     "output_type": "execute_result"
    }
   ],
   "source": [
    "df_googl.shape"
   ]
  },
  {
   "cell_type": "code",
   "execution_count": 7,
   "metadata": {},
   "outputs": [
    {
     "name": "stdout",
     "output_type": "stream",
     "text": [
      "Actual starting date:  2020-01-02 00:00:00\n",
      "Actual ending date:  2024-05-14 00:00:00\n",
      "Duration:  1594 days 00:00:00\n"
     ]
    }
   ],
   "source": [
    "# Get the duration of dataset\n",
    "# Setting specific start and end dates\n",
    "specified_start_date = pd.to_datetime('2020-01-01')\n",
    "specified_end_date = pd.to_datetime('2024-05-14')\n",
    "\n",
    "# Filter the DataFrame to include only data within the specified date range\n",
    "filtered_df = df_googl[(df_googl['date'] >= specified_start_date) & (df_googl['date'] <= specified_end_date)]\n",
    "\n",
    "# Print the actual start and end date from the filtered DataFrame\n",
    "actual_start_date = filtered_df['date'].iloc[0]\n",
    "actual_end_date = filtered_df['date'].iloc[-1]\n",
    "\n",
    "print(\"Actual starting date: \", actual_start_date)\n",
    "print(\"Actual ending date: \", actual_end_date)\n",
    "print(\"Duration: \", actual_end_date - actual_start_date)\n"
   ]
  },
  {
   "cell_type": "code",
   "execution_count": 8,
   "metadata": {},
   "outputs": [
    {
     "data": {
      "text/html": [
       "<div>\n",
       "<style scoped>\n",
       "    .dataframe tbody tr th:only-of-type {\n",
       "        vertical-align: middle;\n",
       "    }\n",
       "\n",
       "    .dataframe tbody tr th {\n",
       "        vertical-align: top;\n",
       "    }\n",
       "\n",
       "    .dataframe thead th {\n",
       "        text-align: right;\n",
       "    }\n",
       "</style>\n",
       "<table border=\"1\" class=\"dataframe\">\n",
       "  <thead>\n",
       "    <tr style=\"text-align: right;\">\n",
       "      <th></th>\n",
       "      <th>open</th>\n",
       "      <th>close</th>\n",
       "    </tr>\n",
       "    <tr>\n",
       "      <th>date</th>\n",
       "      <th></th>\n",
       "      <th></th>\n",
       "    </tr>\n",
       "  </thead>\n",
       "  <tbody>\n",
       "    <tr>\n",
       "      <th>June</th>\n",
       "      <td>106.549814</td>\n",
       "      <td>106.650419</td>\n",
       "    </tr>\n",
       "    <tr>\n",
       "      <th>March</th>\n",
       "      <td>106.775658</td>\n",
       "      <td>106.912838</td>\n",
       "    </tr>\n",
       "    <tr>\n",
       "      <th>January</th>\n",
       "      <td>106.929069</td>\n",
       "      <td>107.117842</td>\n",
       "    </tr>\n",
       "    <tr>\n",
       "      <th>July</th>\n",
       "      <td>109.155000</td>\n",
       "      <td>109.406410</td>\n",
       "    </tr>\n",
       "    <tr>\n",
       "      <th>February</th>\n",
       "      <td>110.768510</td>\n",
       "      <td>110.740146</td>\n",
       "    </tr>\n",
       "  </tbody>\n",
       "</table>\n",
       "</div>"
      ],
      "text/plain": [
       "                open       close\n",
       "date                            \n",
       "June      106.549814  106.650419\n",
       "March     106.775658  106.912838\n",
       "January   106.929069  107.117842\n",
       "July      109.155000  109.406410\n",
       "February  110.768510  110.740146"
      ]
     },
     "execution_count": 8,
     "metadata": {},
     "output_type": "execute_result"
    }
   ],
   "source": [
    "# Monthvise comparision between open and close price\n",
    "monthvise= filtered_df.groupby(filtered_df['date'].dt.strftime('%B'))[['open','close']].mean().sort_values(by='close')\n",
    "monthvise.head()"
   ]
  },
  {
   "cell_type": "code",
   "execution_count": 9,
   "metadata": {},
   "outputs": [
    {
     "name": "stderr",
     "output_type": "stream",
     "text": [
      "C:\\Users\\aomid\\AppData\\Local\\Temp\\ipykernel_31148\\2337847168.py:2: SettingWithCopyWarning: \n",
      "A value is trying to be set on a copy of a slice from a DataFrame.\n",
      "Try using .loc[row_indexer,col_indexer] = value instead\n",
      "\n",
      "See the caveats in the documentation: https://pandas.pydata.org/pandas-docs/stable/user_guide/indexing.html#returning-a-view-versus-a-copy\n",
      "  filtered_df.loc[:, 'year_month'] = filtered_df['date'].dt.to_period('M')\n"
     ]
    },
    {
     "data": {
      "text/html": [
       "\n",
       "        <iframe\n",
       "            width=\"100%\"\n",
       "            height=\"600\"\n",
       "            src=\"http://localhost:60055\"\n",
       "            frameborder=\"0\"\n",
       "            allowfullscreen\n",
       "            \n",
       "        ></iframe>\n",
       "        "
      ],
      "text/plain": [
       "<IPython.lib.display.IFrame at 0x259dd139520>"
      ]
     },
     "execution_count": 9,
     "metadata": {},
     "output_type": "execute_result"
    }
   ],
   "source": [
    "# Group the data by year and month and calculate the average open and close prices\n",
    "filtered_df.loc[:, 'year_month'] = filtered_df['date'].dt.to_period('M')\n",
    "monthwise = filtered_df.groupby('year_month')[['open', 'close']].mean().reset_index()\n",
    "\n",
    "# Extract year-month names, open prices, and close prices\n",
    "months = monthwise['year_month'].dt.strftime('%Y-%m').tolist()\n",
    "opens = monthwise['open'].tolist()\n",
    "closes = monthwise['close'].tolist()\n",
    "\n",
    "# Initialize the bar chart\n",
    "chart = lc.BarChart(\n",
    "    vertical=True,\n",
    "    theme=lc.Themes.White,\n",
    "    title='Stacked Bar Chart: Monthwise Comparison of Open and Close Prices'\n",
    ")\n",
    "\n",
    "# Set data for the chart using the aggregated values\n",
    "chart.set_data_stacked(\n",
    "    months,\n",
    "    [\n",
    "        {'subCategory': 'Open Price', 'values': opens},\n",
    "        {'subCategory': 'Close Price', 'values': closes}\n",
    "    ]\n",
    ")\n",
    "\n",
    "chart.set_value_label_display_mode('hidden')  # Hides value labels\n",
    "chart.add_legend().add(chart)\n",
    "\n",
    "# Open the chart\n",
    "chart.open()\n"
   ]
  },
  {
   "cell_type": "code",
   "execution_count": 10,
   "metadata": {},
   "outputs": [
    {
     "data": {
      "text/html": [
       "\n",
       "        <iframe\n",
       "            width=\"100%\"\n",
       "            height=\"600\"\n",
       "            src=\"http://localhost:60056\"\n",
       "            frameborder=\"0\"\n",
       "            allowfullscreen\n",
       "            \n",
       "        ></iframe>\n",
       "        "
      ],
      "text/plain": [
       "<IPython.lib.display.IFrame at 0x259dd139490>"
      ]
     },
     "execution_count": 10,
     "metadata": {},
     "output_type": "execute_result"
    },
    {
     "name": "stderr",
     "output_type": "stream",
     "text": [
      "127.0.0.1 - - [04/Jun/2024 13:37:29] \"GET / HTTP/1.1\" 200 -\n"
     ]
    }
   ],
   "source": [
    "\n",
    "# Sample DataFrame assuming 'filtered_df' with 'date', 'open', and 'close' columns\n",
    "filtered_df = pd.DataFrame({\n",
    "    'date': pd.date_range(start='2020-01-01', periods=2000, freq='D'),\n",
    "    'open': np.random.rand(2000) * 100,\n",
    "    'close': np.random.rand(2000) * 100\n",
    "})\n",
    "\n",
    "# Define the date range\n",
    "start_date = '2020-01-01'\n",
    "end_date = '2024-05-14'\n",
    "\n",
    "# Filter the DataFrame to include only data within the specified date range\n",
    "filtered_df = filtered_df[(filtered_df['date'] >= start_date) & (filtered_df['date'] <= end_date)]\n",
    "\n",
    "# Convert dates to timestamps for x-axis\n",
    "filtered_df['Timestamp'] = filtered_df['date'].apply(lambda x: x.timestamp() * 1000)\n",
    "\n",
    "# Initialize and configure the chart\n",
    "chart = lc.ChartXY(\n",
    "    theme=lc.Themes.White,\n",
    "    title='Area Chart: Open and Close Prices'\n",
    ")\n",
    "\n",
    "# Define the x values (timestamps) and y values (open and close prices)\n",
    "x_values = filtered_df['Timestamp'].tolist()\n",
    "open_prices = filtered_df['open'].tolist()\n",
    "close_prices = filtered_df['close'].tolist()\n",
    "\n",
    "# Prepare series data for open and close prices\n",
    "series_data = [open_prices, close_prices]\n",
    "\n",
    "legend_labels = ['Open Prices', 'Close Prices']  # Labels for the legend\n",
    "\n",
    "# Add the legend\n",
    "legend = chart.add_legend()\n",
    "\n",
    "for i, data in enumerate(series_data):\n",
    "    series = chart.add_area_series()\n",
    "    if i > 0:\n",
    "        # Offset the subsequent series by the previous series\n",
    "        data = [data[j] + series_data[i-1][j] for j in range(len(data))]\n",
    "    series.add(x_values, data)\n",
    "    series.set_name(legend_labels[i])  # Set the name for each series in the legend\n",
    "    legend.add(series)  # Add series to the legend\n",
    "\n",
    "# Configure the x-axis to display datetime\n",
    "axis_x = chart.get_default_x_axis()\n",
    "axis_x.set_tick_strategy('DateTime')\n",
    "\n",
    "# Configure the y-axis to start from 0\n",
    "max_y_value = max(max(open_prices), max(close_prices))  # Calculate the maximum y value from the data\n",
    "axis_y = chart.get_default_y_axis()\n",
    "axis_y.set_interval(0, max_y_value + 10)  # Setting minimum to 0 and slightly above the max value for padding\n",
    "\n",
    "# Open the chart\n",
    "chart.open()\n"
   ]
  },
  {
   "cell_type": "code",
   "execution_count": 11,
   "metadata": {},
   "outputs": [
    {
     "name": "stderr",
     "output_type": "stream",
     "text": [
      "C:\\Users\\aomid\\AppData\\Local\\Temp\\ipykernel_31148\\1739733057.py:5: SettingWithCopyWarning: \n",
      "A value is trying to be set on a copy of a slice from a DataFrame.\n",
      "Try using .loc[row_indexer,col_indexer] = value instead\n",
      "\n",
      "See the caveats in the documentation: https://pandas.pydata.org/pandas-docs/stable/user_guide/indexing.html#returning-a-view-versus-a-copy\n",
      "  filtered_df.loc[:, 'year_month'] = filtered_df['date'].dt.to_period('M')\n"
     ]
    },
    {
     "data": {
      "text/html": [
       "\n",
       "        <iframe\n",
       "            width=\"100%\"\n",
       "            height=\"600\"\n",
       "            src=\"http://localhost:60057\"\n",
       "            frameborder=\"0\"\n",
       "            allowfullscreen\n",
       "            \n",
       "        ></iframe>\n",
       "        "
      ],
      "text/plain": [
       "<IPython.lib.display.IFrame at 0x259dd164d40>"
      ]
     },
     "execution_count": 11,
     "metadata": {},
     "output_type": "execute_result"
    },
    {
     "name": "stderr",
     "output_type": "stream",
     "text": [
      "127.0.0.1 - - [04/Jun/2024 13:37:29] \"GET / HTTP/1.1\" 200 -\n"
     ]
    }
   ],
   "source": [
    "\n",
    "# Filter the DataFrame to include only data within the specified date range\n",
    "filtered_df = df_googl[(df_googl['date'] >= start_date) & (df_googl['date'] <= end_date)]\n",
    "\n",
    "# Group the data by year and month and calculate the average high and low prices\n",
    "filtered_df.loc[:, 'year_month'] = filtered_df['date'].dt.to_period('M')\n",
    "monthwise_high = filtered_df.groupby('year_month')['high'].mean().reset_index()\n",
    "monthwise_low = filtered_df.groupby('year_month')['low'].mean().reset_index()\n",
    "\n",
    "# Merge high and low price DataFrames\n",
    "monthwise = pd.merge(monthwise_high, monthwise_low, on='year_month')\n",
    "monthwise.columns = ['year_month', 'high', 'low']\n",
    "\n",
    "# Extract year-month names, high prices, and low prices\n",
    "months = monthwise['year_month'].dt.strftime('%Y-%m').tolist()\n",
    "highs = monthwise['high'].tolist()\n",
    "lows = monthwise['low'].tolist()\n",
    "\n",
    "# Initialize the bar chart\n",
    "chart = lc.BarChart(\n",
    "    vertical=True,  # Vertical bars\n",
    "    theme=lc.Themes.White,  # White theme\n",
    "    title='Grouped Bar Chart: Monthwise High and Low Prices'  # Title of the chart\n",
    ")\n",
    "\n",
    "# Group the data for high and low prices\n",
    "chart.set_data_grouped(\n",
    "    months,\n",
    "    [\n",
    "        {'subCategory': 'High Price', 'values': highs},\n",
    "        {'subCategory': 'Low Price', 'values': lows}\n",
    "    ]\n",
    ")\n",
    "\n",
    "# Set sorting to alphabetical, which will sort by month names\n",
    "chart.set_sorting('alphabetical')\n",
    "\n",
    "# Add a legend to the chart to differentiate between high and low prices\n",
    "chart.add_legend().add(chart)\n",
    "\n",
    "# Open the chart to display it\n",
    "chart.open()\n"
   ]
  },
  {
   "cell_type": "code",
   "execution_count": 12,
   "metadata": {},
   "outputs": [
    {
     "data": {
      "text/html": [
       "\n",
       "        <iframe\n",
       "            width=\"100%\"\n",
       "            height=\"600\"\n",
       "            src=\"http://localhost:60058\"\n",
       "            frameborder=\"0\"\n",
       "            allowfullscreen\n",
       "            \n",
       "        ></iframe>\n",
       "        "
      ],
      "text/plain": [
       "<IPython.lib.display.IFrame at 0x259dd166810>"
      ]
     },
     "execution_count": 12,
     "metadata": {},
     "output_type": "execute_result"
    },
    {
     "name": "stderr",
     "output_type": "stream",
     "text": [
      "127.0.0.1 - - [04/Jun/2024 13:37:29] \"GET / HTTP/1.1\" 200 -\n"
     ]
    }
   ],
   "source": [
    "# Line Series\n",
    "# Assuming df_google is already set up and filtered\n",
    "df_googl['date'] = pd.to_datetime(df_googl['date'])\n",
    "specified_start_date = pd.to_datetime('2020-01-01')\n",
    "specified_end_date = pd.to_datetime('2024-05-14')\n",
    "filtered_df = df_googl[(df_googl['date'] >= specified_start_date) & (df_googl['date'] <= specified_end_date)]\n",
    "\n",
    "# Initialize a 2D chart\n",
    "chart = lc.ChartXY(\n",
    "    theme=lc.Themes.Black,\n",
    "    title='Line Chart: Stock Analysis Chart'\n",
    ")\n",
    "\n",
    "# Dispose the default x-axis and create a new one suited for datetime\n",
    "chart.get_default_x_axis().dispose()\n",
    "axis_x = chart.add_x_axis(axis_type='linear-highPrecision')\n",
    "axis_x.set_tick_strategy('DateTime')\n",
    "\n",
    "# Configure the x-axis to display dates\n",
    "axis_x.set_interval(\n",
    "    start=filtered_df['date'].min().timestamp() * 1000, \n",
    "    end=filtered_df['date'].max().timestamp() * 1000\n",
    ")\n",
    "\n",
    "# Adding legend to the chart\n",
    "legend = chart.add_legend()\n",
    "\n",
    "# Add series for each stock parameter\n",
    "params = ['open', 'close', 'high', 'low']\n",
    "for param in params:\n",
    "    series = chart.add_line_series()\n",
    "    series.set_line_thickness(2)\n",
    "    x_values = filtered_df['date'].apply(lambda x: x.timestamp() * 1000).tolist()\n",
    "    y_values = filtered_df[param].tolist()\n",
    "    series.add(x_values, y_values)\n",
    "    # Hypothetical method to set series name\n",
    "    if hasattr(series, 'set_name'):\n",
    "        series.set_name(param)\n",
    "    legend.add(series)\n",
    "\n",
    "# Open the chart\n",
    "chart.open()"
   ]
  },
  {
   "cell_type": "code",
   "execution_count": 13,
   "metadata": {},
   "outputs": [
    {
     "data": {
      "text/html": [
       "\n",
       "        <iframe\n",
       "            width=\"100%\"\n",
       "            height=\"600\"\n",
       "            src=\"http://localhost:60059\"\n",
       "            frameborder=\"0\"\n",
       "            allowfullscreen\n",
       "            \n",
       "        ></iframe>\n",
       "        "
      ],
      "text/plain": [
       "<IPython.lib.display.IFrame at 0x259dd1645f0>"
      ]
     },
     "execution_count": 13,
     "metadata": {},
     "output_type": "execute_result"
    },
    {
     "name": "stderr",
     "output_type": "stream",
     "text": [
      "127.0.0.1 - - [04/Jun/2024 13:37:29] \"GET / HTTP/1.1\" 200 -\n"
     ]
    }
   ],
   "source": [
    "# Point Line Series\n",
    "import lightningchart as lc\n",
    "import pandas as pd\n",
    "\n",
    "# Assuming df_google is already set up and filtered\n",
    "df_googl['date'] = pd.to_datetime(df_googl['date'])\n",
    "specified_start_date = pd.to_datetime('2020-01-01')\n",
    "specified_end_date = pd.to_datetime('2024-05-14')\n",
    "filtered_df = df_googl[(df_googl['date'] >= specified_start_date) & (df_googl['date'] <= specified_end_date)]\n",
    "\n",
    "# Initialize the chart\n",
    "chart = lc.ChartXY(\n",
    "    theme=lc.Themes.White,\n",
    "    title='Point Line Series: Stock Analysis Chart'\n",
    ")\n",
    "\n",
    "# Dispose the default x-axis and create a high precision datetime axis\n",
    "chart.get_default_x_axis().dispose()\n",
    "axis_x = chart.add_x_axis(axis_type='linear-highPrecision')\n",
    "axis_x.set_tick_strategy('DateTime')\n",
    "axis_x.set_interval(start=filtered_df['date'].min().timestamp() * 1000, end=filtered_df['date'].max().timestamp() * 1000)\n",
    "\n",
    "# Adding legend to the chart\n",
    "legend = chart.add_legend()\n",
    "\n",
    "# Create a list of series, each with a different point shape\n",
    "shapes = ['circle', 'triangle', 'square', 'diamond']\n",
    "params = ['open', 'close', 'high', 'low']\n",
    "colors = [lc.Color(255, 0, 0), lc.Color(0, 255, 0), lc.Color(0, 0, 255), lc.Color(255, 255, 0)]\n",
    "\n",
    "series_list = []\n",
    "for shape, param, color in zip(shapes, params, colors):\n",
    "    series = chart.add_point_line_series()\n",
    "    series.set_point_shape(shape)\n",
    "    series.set_point_size(10)\n",
    "    series.set_point_color(color)\n",
    "    series.set_line_thickness(2)\n",
    "    # Assuming a method exists to set the name\n",
    "    series.set_name(param)\n",
    "    legend.add(series)\n",
    "    series_list.append(series)\n",
    "\n",
    "# Populate each series with data\n",
    "for series, param in zip(series_list, params):\n",
    "    x_values = filtered_df['date'].apply(lambda x: x.timestamp() * 1000).tolist()\n",
    "    y_values = filtered_df[param].tolist()\n",
    "    series.add(x=x_values, y=y_values)\n",
    "\n",
    "# Open the chart to display it\n",
    "chart.open()\n",
    "\n",
    "\n"
   ]
  },
  {
   "cell_type": "code",
   "execution_count": 14,
   "metadata": {},
   "outputs": [
    {
     "data": {
      "text/html": [
       "\n",
       "        <iframe\n",
       "            width=\"100%\"\n",
       "            height=\"600\"\n",
       "            src=\"http://localhost:60061\"\n",
       "            frameborder=\"0\"\n",
       "            allowfullscreen\n",
       "            \n",
       "        ></iframe>\n",
       "        "
      ],
      "text/plain": [
       "<IPython.lib.display.IFrame at 0x259dd167e90>"
      ]
     },
     "execution_count": 14,
     "metadata": {},
     "output_type": "execute_result"
    },
    {
     "name": "stderr",
     "output_type": "stream",
     "text": [
      "127.0.0.1 - - [04/Jun/2024 13:37:29] \"GET / HTTP/1.1\" 200 -\n"
     ]
    }
   ],
   "source": [
    "# 3D Line Chart\n",
    "# Assuming df_google is your DataFrame and includes the 'date', 'open', 'close', 'high', and 'low' columns\n",
    "df_googl['date'] = pd.to_datetime(df_googl['date'])\n",
    "\n",
    "# Set the date range and filter the DataFrame\n",
    "specified_start_date = pd.to_datetime('2020-01-01')\n",
    "specified_end_date = pd.to_datetime('2024-05-14')\n",
    "filtered_df = df_googl[(df_googl['date'] >= specified_start_date) & (df_googl['date'] <= specified_end_date)]\n",
    "\n",
    "# Initialize the 3D chart\n",
    "chart = lc.Chart3D(\n",
    "    theme=lc.Themes.White,\n",
    "    title='Stock Line Series 3D'\n",
    ")\n",
    "\n",
    "# Parameters to plot\n",
    "params = ['open', 'close', 'high', 'low']\n",
    "series_list = []\n",
    "\n",
    "# Adding legend to the chart\n",
    "legend = chart.add_legend()\n",
    "\n",
    "for idx, param in enumerate(params):\n",
    "    series = chart.add_line_series()\n",
    "    series.set_line_thickness(2)\n",
    "    series_list.append(series)\n",
    "    # Assuming an API call to set a name or description if it exists:\n",
    "    if hasattr(series, 'set_name'):\n",
    "        series.set_name(param)\n",
    "    legend.add(series)  # Adding each series to the legend\n",
    "\n",
    "# Generate data for each series\n",
    "for idx, param in enumerate(params):\n",
    "    x_values = filtered_df['date'].apply(lambda x: x.timestamp() * 1000).tolist()  # Convert to milliseconds\n",
    "    y_values = filtered_df[param].tolist()\n",
    "    z_values = [idx] * len(x_values)  # Use index as Z-value to separate lines vertically\n",
    "    for x, y, z in zip(x_values, y_values, z_values):\n",
    "        series_list[idx].add(x, y, z)\n",
    "\n",
    "# Configure the x-axis to handle datetime values correctly\n",
    "try:\n",
    "    axis_x = chart.get_default_x_axis()\n",
    "    axis_x.set_tick_strategy('DateTime')\n",
    "    axis_x.set_interval(\n",
    "        start=filtered_df['date'].min().timestamp() * 1000, \n",
    "        end=filtered_df['date'].max().timestamp() * 1000\n",
    "    )\n",
    "except AttributeError:\n",
    "    print(\"Custom tick labels are not directly supported in this context.\")\n",
    "\n",
    "# Open the chart to display it\n",
    "chart.open()"
   ]
  },
  {
   "cell_type": "code",
   "execution_count": 15,
   "metadata": {},
   "outputs": [
    {
     "name": "stdout",
     "output_type": "stream",
     "text": [
      "Shape of close dataframe: (1099, 2)\n"
     ]
    }
   ],
   "source": [
    "# Make separate dataframe with close price\n",
    "closedf = filtered_df[['date','close']]\n",
    "print(\"Shape of close dataframe:\", closedf.shape)"
   ]
  },
  {
   "cell_type": "code",
   "execution_count": 16,
   "metadata": {},
   "outputs": [
    {
     "name": "stderr",
     "output_type": "stream",
     "text": [
      "C:\\Users\\aomid\\AppData\\Local\\Temp\\ipykernel_31148\\2720009805.py:9: SettingWithCopyWarning: \n",
      "A value is trying to be set on a copy of a slice from a DataFrame.\n",
      "Try using .loc[row_indexer,col_indexer] = value instead\n",
      "\n",
      "See the caveats in the documentation: https://pandas.pydata.org/pandas-docs/stable/user_guide/indexing.html#returning-a-view-versus-a-copy\n",
      "  filtered_df['timestamp'] = filtered_df['date'].apply(lambda x: x.timestamp() * 1000)\n"
     ]
    },
    {
     "data": {
      "text/html": [
       "\n",
       "        <iframe\n",
       "            width=\"100%\"\n",
       "            height=\"600\"\n",
       "            src=\"http://localhost:60062\"\n",
       "            frameborder=\"0\"\n",
       "            allowfullscreen\n",
       "            \n",
       "        ></iframe>\n",
       "        "
      ],
      "text/plain": [
       "<IPython.lib.display.IFrame at 0x259dd8b0530>"
      ]
     },
     "execution_count": 16,
     "metadata": {},
     "output_type": "execute_result"
    },
    {
     "name": "stderr",
     "output_type": "stream",
     "text": [
      "127.0.0.1 - - [04/Jun/2024 13:26:33] \"GET / HTTP/1.1\" 200 -\n"
     ]
    }
   ],
   "source": [
    "# Line chart\n",
    "# Assuming df_google is already set up and filtered\n",
    "df_googl['date'] = pd.to_datetime(df_googl['date'])\n",
    "specified_start_date = pd.to_datetime('2020-01-01')\n",
    "specified_end_date = pd.to_datetime('2024-05-14')\n",
    "filtered_df = df_googl[(df_googl['date'] >= specified_start_date) & (df_googl['date'] <= specified_end_date)]\n",
    "\n",
    "# Convert dates to timestamps in milliseconds\n",
    "filtered_df['timestamp'] = filtered_df['date'].apply(lambda x: x.timestamp() * 1000)\n",
    "\n",
    "# Initialize a 2D chart with high precision datetime axis\n",
    "chart = lc.ChartXY(\n",
    "    theme=lc.Themes.White,\n",
    "    title='Line Chart: Stock Analysis Chart'\n",
    ")\n",
    "\n",
    "# Dispose the default x-axis and create a new one suited for datetime\n",
    "chart.get_default_x_axis().dispose()\n",
    "axis_x = chart.add_x_axis(axis_type='linear-highPrecision')\n",
    "axis_x.set_tick_strategy('DateTime')\n",
    "axis_x.set_interval(\n",
    "    start=filtered_df['timestamp'].min(), \n",
    "    end=filtered_df['timestamp'].max()\n",
    ")\n",
    "\n",
    "# Add a line series for 'close' prices\n",
    "close_series = chart.add_line_series()\n",
    "x_values = filtered_df['timestamp'].tolist()\n",
    "y_values = filtered_df['close'].tolist()\n",
    "close_series.add(x_values, y_values)\n",
    "close_series.set_line_thickness(2)\n",
    "\n",
    "# Name the series to correctly address the legend\n",
    "close_series.set_name('Close Prices')\n",
    "\n",
    "# Add a legend to the chart\n",
    "legend = chart.add_legend()\n",
    "legend.add(close_series)  # Attach the series to the legend with the correct label\n",
    "\n",
    "# Open the chart\n",
    "chart.open()\n"
   ]
  },
  {
   "cell_type": "code",
   "execution_count": 17,
   "metadata": {},
   "outputs": [
    {
     "name": "stdout",
     "output_type": "stream",
     "text": [
      "(1099, 2)\n",
      "   normalized_close       date\n",
      "0          0.131890 2020-01-02\n",
      "1          0.128888 2020-01-03\n",
      "2          0.144109 2020-01-06\n",
      "3          0.142977 2020-01-07\n",
      "4          0.147137 2020-01-08\n"
     ]
    }
   ],
   "source": [
    "# Normalizing / scaling close value between 0 to 1\n",
    "# Assuming df_google is already set up and filtered\n",
    "df_googl['date'] = pd.to_datetime(df_googl['date'])\n",
    "specified_start_date = pd.to_datetime('2020-01-01')\n",
    "specified_end_date = pd.to_datetime('2024-05-14')\n",
    "filtered_df = df_googl[(df_googl['date'] >= specified_start_date) & (df_googl['date'] <= specified_end_date)]\n",
    "\n",
    "# Extract 'close' column and create a copy for normalization\n",
    "closedf = filtered_df[['date', 'close']].copy()\n",
    "close_stock = closedf.copy()\n",
    "\n",
    "# Remove the 'date' column for normalization\n",
    "close_stock_values = close_stock['close'].values.reshape(-1, 1)\n",
    "\n",
    "# Normalize/scale the close values between 0 and 1\n",
    "scaler = MinMaxScaler(feature_range=(0, 1))\n",
    "normalized_close_values = scaler.fit_transform(close_stock_values)\n",
    "\n",
    "# Update the DataFrame with normalized values\n",
    "normalized_close_df = pd.DataFrame(normalized_close_values, columns=['normalized_close'])\n",
    "normalized_close_df['date'] = closedf['date'].values\n",
    "\n",
    "# Print the shape of the normalized DataFrame\n",
    "print(normalized_close_df.shape)\n",
    "\n",
    "# Optionally, you can inspect the first few rows to verify\n",
    "print(normalized_close_df.head())"
   ]
  },
  {
   "cell_type": "code",
   "execution_count": 18,
   "metadata": {},
   "outputs": [
    {
     "data": {
      "text/html": [
       "\n",
       "        <iframe\n",
       "            width=\"100%\"\n",
       "            height=\"600\"\n",
       "            src=\"http://localhost:60063\"\n",
       "            frameborder=\"0\"\n",
       "            allowfullscreen\n",
       "            \n",
       "        ></iframe>\n",
       "        "
      ],
      "text/plain": [
       "<IPython.lib.display.IFrame at 0x259dd8b12e0>"
      ]
     },
     "execution_count": 18,
     "metadata": {},
     "output_type": "execute_result"
    },
    {
     "name": "stderr",
     "output_type": "stream",
     "text": [
      "127.0.0.1 - - [04/Jun/2024 13:37:29] \"GET / HTTP/1.1\" 200 -\n"
     ]
    }
   ],
   "source": [
    "# 2D chart for Normalization\n",
    "chart = lc.ChartXY(\n",
    "    theme=lc.Themes.White,\n",
    "    title='Normalized Close Prices'\n",
    ")\n",
    "\n",
    "# Dispose the default x-axis and create a new one suited for datetime\n",
    "chart.get_default_x_axis().dispose()\n",
    "axis_x = chart.add_x_axis(axis_type='linear-highPrecision')\n",
    "axis_x.set_tick_strategy('DateTime')\n",
    "axis_x.set_interval(\n",
    "    start=normalized_close_df['date'].min().timestamp() * 1000, \n",
    "    end=normalized_close_df['date'].max().timestamp() * 1000\n",
    ")\n",
    "\n",
    "# Add a line series for normalized 'close' prices\n",
    "normalized_series = chart.add_line_series()\n",
    "x_values = normalized_close_df['date'].apply(lambda x: x.timestamp() * 1000).tolist()\n",
    "y_values = normalized_close_df['normalized_close'].tolist()\n",
    "normalized_series.add(x_values, y_values)\n",
    "normalized_series.set_line_thickness(2)\n",
    "normalized_series.set_name('Normalized Close Prices')\n",
    "\n",
    "# Add a legend to the chart\n",
    "legend = chart.add_legend()\n",
    "legend.add(normalized_series)\n",
    "\n",
    "# Open the chart\n",
    "chart.open()\n"
   ]
  },
  {
   "cell_type": "code",
   "execution_count": 19,
   "metadata": {},
   "outputs": [
    {
     "name": "stdout",
     "output_type": "stream",
     "text": [
      "train_data:  (714, 2)\n",
      "test_data:  (385, 2)\n",
      "   normalized_close       date\n",
      "0          0.131890 2020-01-02\n",
      "1          0.128888 2020-01-03\n",
      "2          0.144109 2020-01-06\n",
      "3          0.142977 2020-01-07\n",
      "4          0.147137 2020-01-08\n",
      "     normalized_close       date\n",
      "714          0.316689 2022-11-01\n",
      "715          0.287338 2022-11-02\n",
      "716          0.257650 2022-11-03\n",
      "717          0.284067 2022-11-04\n",
      "718          0.300085 2022-11-07\n"
     ]
    }
   ],
   "source": [
    "# Split the data into training and testing sets\n",
    "training_size = int(len(normalized_close_df) * 0.65)\n",
    "test_size = len(normalized_close_df) - training_size\n",
    "train_data, test_data = normalized_close_df.iloc[0:training_size, :], normalized_close_df.iloc[training_size:len(normalized_close_df), :]\n",
    "\n",
    "# Print the shapes of the training and testing datasets\n",
    "print(\"train_data: \", train_data.shape)\n",
    "print(\"test_data: \", test_data.shape)\n",
    "\n",
    "# Optionally, you can inspect the first few rows to verify\n",
    "print(train_data.head())\n",
    "print(test_data.head())\n"
   ]
  },
  {
   "cell_type": "code",
   "execution_count": 20,
   "metadata": {},
   "outputs": [
    {
     "name": "stdout",
     "output_type": "stream",
     "text": [
      "X_train:  (698, 15)\n",
      "y_train:  (698,)\n",
      "X_test:  (369, 15)\n",
      "y_test (369,)\n"
     ]
    }
   ],
   "source": [
    "# Function to create dataset matrix for time-series prediction\n",
    "def create_dataset(dataset, time_step=1):\n",
    "    dataX, dataY = [], []\n",
    "    for i in range(len(dataset)-time_step-1):\n",
    "        a = dataset[i:(i+time_step), 0]   \n",
    "        dataX.append(a)\n",
    "        dataY.append(dataset[i + time_step, 0])\n",
    "    return np.array(dataX), np.array(dataY)\n",
    "\n",
    "# Reshape the data into X=t,t+1,t+2,t+3 and Y=t+4\n",
    "time_step = 15\n",
    "X_train, y_train = create_dataset(train_data[['normalized_close']].values, time_step)\n",
    "X_test, y_test = create_dataset(test_data[['normalized_close']].values, time_step)\n",
    "\n",
    "# Print the shapes of the datasets\n",
    "print(\"X_train: \", X_train.shape)\n",
    "print(\"y_train: \", y_train.shape)\n",
    "print(\"X_test: \", X_test.shape)\n",
    "print(\"y_test\", y_test.shape)\n"
   ]
  },
  {
   "cell_type": "code",
   "execution_count": 21,
   "metadata": {},
   "outputs": [
    {
     "data": {
      "text/html": [
       "\n",
       "        <iframe\n",
       "            width=\"100%\"\n",
       "            height=\"600\"\n",
       "            src=\"http://localhost:60064\"\n",
       "            frameborder=\"0\"\n",
       "            allowfullscreen\n",
       "            \n",
       "        ></iframe>\n",
       "        "
      ],
      "text/plain": [
       "<IPython.lib.display.IFrame at 0x259dd8b22a0>"
      ]
     },
     "execution_count": 21,
     "metadata": {},
     "output_type": "execute_result"
    },
    {
     "name": "stderr",
     "output_type": "stream",
     "text": [
      "127.0.0.1 - - [04/Jun/2024 13:37:29] \"GET / HTTP/1.1\" 200 -\n"
     ]
    }
   ],
   "source": [
    "# Visualization of Training Data\n",
    "# Initialize a new 2D chart for training data visualization\n",
    "chart_train = lc.ChartXY(\n",
    "    theme=lc.Themes.White,\n",
    "    title='Training Data: Normalized Close Prices'\n",
    ")\n",
    "\n",
    "# Dispose the default x-axis and create a new one suited for datetime\n",
    "chart_train.get_default_x_axis().dispose()\n",
    "axis_x_train = chart_train.add_x_axis(axis_type='linear-highPrecision')\n",
    "axis_x_train.set_tick_strategy('DateTime')\n",
    "axis_x_train.set_interval(\n",
    "    start=train_data['date'].min().timestamp() * 1000, \n",
    "    end=train_data['date'].max().timestamp() * 1000\n",
    ")\n",
    "\n",
    "# Add a line series for training 'close' prices\n",
    "train_series = chart_train.add_line_series()\n",
    "x_values_train = train_data['date'].apply(lambda x: x.timestamp() * 1000).tolist()\n",
    "y_values_train = train_data['normalized_close'].tolist()\n",
    "train_series.add(x_values_train, y_values_train)\n",
    "train_series.set_line_thickness(2)\n",
    "train_series.set_name('Training Close Prices')\n",
    "\n",
    "# Add a legend to the chart\n",
    "legend_train = chart_train.add_legend()\n",
    "legend_train.add(train_series)\n",
    "\n",
    "# Open the training data chart\n",
    "chart_train.open()\n"
   ]
  },
  {
   "cell_type": "code",
   "execution_count": 22,
   "metadata": {},
   "outputs": [
    {
     "data": {
      "text/html": [
       "\n",
       "        <iframe\n",
       "            width=\"100%\"\n",
       "            height=\"600\"\n",
       "            src=\"http://localhost:60065\"\n",
       "            frameborder=\"0\"\n",
       "            allowfullscreen\n",
       "            \n",
       "        ></iframe>\n",
       "        "
      ],
      "text/plain": [
       "<IPython.lib.display.IFrame at 0x259dd8b2ed0>"
      ]
     },
     "execution_count": 22,
     "metadata": {},
     "output_type": "execute_result"
    },
    {
     "name": "stderr",
     "output_type": "stream",
     "text": [
      "127.0.0.1 - - [04/Jun/2024 13:37:29] \"GET / HTTP/1.1\" 200 -\n"
     ]
    }
   ],
   "source": [
    "# Visualization of Testing Data\n",
    "# Initialize a new 2D chart for testing data visualization\n",
    "chart_test = lc.ChartXY(\n",
    "    theme=lc.Themes.White,\n",
    "    title='Testing Data: Normalized Close Prices'\n",
    ")\n",
    "\n",
    "# Dispose the default x-axis and create a new one suited for datetime\n",
    "chart_test.get_default_x_axis().dispose()\n",
    "axis_x_test = chart_test.add_x_axis(axis_type='linear-highPrecision')\n",
    "axis_x_test.set_tick_strategy('DateTime')\n",
    "axis_x_test.set_interval(\n",
    "    start=test_data['date'].min().timestamp() * 1000, \n",
    "    end=test_data['date'].max().timestamp() * 1000\n",
    ")\n",
    "\n",
    "# Add a line series for testing 'close' prices\n",
    "test_series = chart_test.add_line_series()\n",
    "x_values_test = test_data['date'].apply(lambda x: x.timestamp() * 1000).tolist()\n",
    "y_values_test = test_data['normalized_close'].tolist()\n",
    "test_series.add(x_values_test, y_values_test)\n",
    "test_series.set_line_thickness(2)\n",
    "test_series.set_name('Testing Close Prices')\n",
    "\n",
    "# Add a legend to the chart\n",
    "legend_test = chart_test.add_legend()\n",
    "legend_test.add(test_series)\n",
    "\n",
    "# Open the testing data chart\n",
    "chart_test.open()\n"
   ]
  },
  {
   "cell_type": "markdown",
   "metadata": {},
   "source": [
    "**LSTM Model**"
   ]
  },
  {
   "cell_type": "code",
   "execution_count": 23,
   "metadata": {},
   "outputs": [
    {
     "name": "stdout",
     "output_type": "stream",
     "text": [
      "X_train:  (698, 15, 1)\n",
      "X_test:  (369, 15, 1)\n"
     ]
    }
   ],
   "source": [
    "# Preparing the Data\n",
    "X_train = X_train.reshape(X_train.shape[0], X_train.shape[1], 1)\n",
    "X_test = X_test.reshape(X_test.shape[0], X_test.shape[1], 1)\n",
    "\n",
    "print(\"X_train: \", X_train.shape)\n",
    "print(\"X_test: \", X_test.shape)"
   ]
  },
  {
   "cell_type": "code",
   "execution_count": 24,
   "metadata": {},
   "outputs": [
    {
     "name": "stderr",
     "output_type": "stream",
     "text": [
      "127.0.0.1 - - [04/Jun/2024 13:26:03] \"GET / HTTP/1.1\" 200 -\n"
     ]
    },
    {
     "data": {
      "text/html": [
       "<pre style=\"white-space:pre;overflow-x:auto;line-height:normal;font-family:Menlo,'DejaVu Sans Mono',consolas,'Courier New',monospace\"><span style=\"font-weight: bold\">Model: \"sequential\"</span>\n",
       "</pre>\n"
      ],
      "text/plain": [
       "\u001b[1mModel: \"sequential\"\u001b[0m\n"
      ]
     },
     "metadata": {},
     "output_type": "display_data"
    },
    {
     "data": {
      "text/html": [
       "<pre style=\"white-space:pre;overflow-x:auto;line-height:normal;font-family:Menlo,'DejaVu Sans Mono',consolas,'Courier New',monospace\">┏━━━━━━━━━━━━━━━━━━━━━━━━━━━━━━━━━┳━━━━━━━━━━━━━━━━━━━━━━━━┳━━━━━━━━━━━━━━━┓\n",
       "┃<span style=\"font-weight: bold\"> Layer (type)                    </span>┃<span style=\"font-weight: bold\"> Output Shape           </span>┃<span style=\"font-weight: bold\">       Param # </span>┃\n",
       "┡━━━━━━━━━━━━━━━━━━━━━━━━━━━━━━━━━╇━━━━━━━━━━━━━━━━━━━━━━━━╇━━━━━━━━━━━━━━━┩\n",
       "│ lstm (<span style=\"color: #0087ff; text-decoration-color: #0087ff\">LSTM</span>)                     │ (<span style=\"color: #00d7ff; text-decoration-color: #00d7ff\">None</span>, <span style=\"color: #00af00; text-decoration-color: #00af00\">15</span>, <span style=\"color: #00af00; text-decoration-color: #00af00\">50</span>)         │        <span style=\"color: #00af00; text-decoration-color: #00af00\">10,400</span> │\n",
       "├─────────────────────────────────┼────────────────────────┼───────────────┤\n",
       "│ lstm_1 (<span style=\"color: #0087ff; text-decoration-color: #0087ff\">LSTM</span>)                   │ (<span style=\"color: #00d7ff; text-decoration-color: #00d7ff\">None</span>, <span style=\"color: #00af00; text-decoration-color: #00af00\">50</span>)             │        <span style=\"color: #00af00; text-decoration-color: #00af00\">20,200</span> │\n",
       "├─────────────────────────────────┼────────────────────────┼───────────────┤\n",
       "│ dense (<span style=\"color: #0087ff; text-decoration-color: #0087ff\">Dense</span>)                   │ (<span style=\"color: #00d7ff; text-decoration-color: #00d7ff\">None</span>, <span style=\"color: #00af00; text-decoration-color: #00af00\">25</span>)             │         <span style=\"color: #00af00; text-decoration-color: #00af00\">1,275</span> │\n",
       "├─────────────────────────────────┼────────────────────────┼───────────────┤\n",
       "│ dense_1 (<span style=\"color: #0087ff; text-decoration-color: #0087ff\">Dense</span>)                 │ (<span style=\"color: #00d7ff; text-decoration-color: #00d7ff\">None</span>, <span style=\"color: #00af00; text-decoration-color: #00af00\">1</span>)              │            <span style=\"color: #00af00; text-decoration-color: #00af00\">26</span> │\n",
       "└─────────────────────────────────┴────────────────────────┴───────────────┘\n",
       "</pre>\n"
      ],
      "text/plain": [
       "┏━━━━━━━━━━━━━━━━━━━━━━━━━━━━━━━━━┳━━━━━━━━━━━━━━━━━━━━━━━━┳━━━━━━━━━━━━━━━┓\n",
       "┃\u001b[1m \u001b[0m\u001b[1mLayer (type)                   \u001b[0m\u001b[1m \u001b[0m┃\u001b[1m \u001b[0m\u001b[1mOutput Shape          \u001b[0m\u001b[1m \u001b[0m┃\u001b[1m \u001b[0m\u001b[1m      Param #\u001b[0m\u001b[1m \u001b[0m┃\n",
       "┡━━━━━━━━━━━━━━━━━━━━━━━━━━━━━━━━━╇━━━━━━━━━━━━━━━━━━━━━━━━╇━━━━━━━━━━━━━━━┩\n",
       "│ lstm (\u001b[38;5;33mLSTM\u001b[0m)                     │ (\u001b[38;5;45mNone\u001b[0m, \u001b[38;5;34m15\u001b[0m, \u001b[38;5;34m50\u001b[0m)         │        \u001b[38;5;34m10,400\u001b[0m │\n",
       "├─────────────────────────────────┼────────────────────────┼───────────────┤\n",
       "│ lstm_1 (\u001b[38;5;33mLSTM\u001b[0m)                   │ (\u001b[38;5;45mNone\u001b[0m, \u001b[38;5;34m50\u001b[0m)             │        \u001b[38;5;34m20,200\u001b[0m │\n",
       "├─────────────────────────────────┼────────────────────────┼───────────────┤\n",
       "│ dense (\u001b[38;5;33mDense\u001b[0m)                   │ (\u001b[38;5;45mNone\u001b[0m, \u001b[38;5;34m25\u001b[0m)             │         \u001b[38;5;34m1,275\u001b[0m │\n",
       "├─────────────────────────────────┼────────────────────────┼───────────────┤\n",
       "│ dense_1 (\u001b[38;5;33mDense\u001b[0m)                 │ (\u001b[38;5;45mNone\u001b[0m, \u001b[38;5;34m1\u001b[0m)              │            \u001b[38;5;34m26\u001b[0m │\n",
       "└─────────────────────────────────┴────────────────────────┴───────────────┘\n"
      ]
     },
     "metadata": {},
     "output_type": "display_data"
    },
    {
     "data": {
      "text/html": [
       "<pre style=\"white-space:pre;overflow-x:auto;line-height:normal;font-family:Menlo,'DejaVu Sans Mono',consolas,'Courier New',monospace\"><span style=\"font-weight: bold\"> Total params: </span><span style=\"color: #00af00; text-decoration-color: #00af00\">31,901</span> (124.61 KB)\n",
       "</pre>\n"
      ],
      "text/plain": [
       "\u001b[1m Total params: \u001b[0m\u001b[38;5;34m31,901\u001b[0m (124.61 KB)\n"
      ]
     },
     "metadata": {},
     "output_type": "display_data"
    },
    {
     "data": {
      "text/html": [
       "<pre style=\"white-space:pre;overflow-x:auto;line-height:normal;font-family:Menlo,'DejaVu Sans Mono',consolas,'Courier New',monospace\"><span style=\"font-weight: bold\"> Trainable params: </span><span style=\"color: #00af00; text-decoration-color: #00af00\">31,901</span> (124.61 KB)\n",
       "</pre>\n"
      ],
      "text/plain": [
       "\u001b[1m Trainable params: \u001b[0m\u001b[38;5;34m31,901\u001b[0m (124.61 KB)\n"
      ]
     },
     "metadata": {},
     "output_type": "display_data"
    },
    {
     "data": {
      "text/html": [
       "<pre style=\"white-space:pre;overflow-x:auto;line-height:normal;font-family:Menlo,'DejaVu Sans Mono',consolas,'Courier New',monospace\"><span style=\"font-weight: bold\"> Non-trainable params: </span><span style=\"color: #00af00; text-decoration-color: #00af00\">0</span> (0.00 B)\n",
       "</pre>\n"
      ],
      "text/plain": [
       "\u001b[1m Non-trainable params: \u001b[0m\u001b[38;5;34m0\u001b[0m (0.00 B)\n"
      ]
     },
     "metadata": {},
     "output_type": "display_data"
    }
   ],
   "source": [
    "\n",
    "# Define the input shape based on your training data\n",
    "input_shape = (X_train.shape[1], 1)  # Replace 1 with the number of features in your data\n",
    "\n",
    "# Create the Sequential model\n",
    "model = keras.Sequential()\n",
    "\n",
    "# Use Input layer to define the input shape\n",
    "model.add(keras.Input(shape=input_shape))\n",
    "\n",
    "# Add LSTM layers with return_sequences for the first layer only\n",
    "model.add(LSTM(50, return_sequences=True))\n",
    "model.add(LSTM(50, return_sequences=False))\n",
    "\n",
    "# Add Dense layers for prediction\n",
    "model.add(Dense(25))\n",
    "model.add(Dense(1))\n",
    "\n",
    "# Compile the model\n",
    "model.compile(optimizer='adam', loss='mean_squared_error')\n",
    "\n",
    "model.summary()\n"
   ]
  },
  {
   "cell_type": "code",
   "execution_count": 25,
   "metadata": {},
   "outputs": [
    {
     "name": "stdout",
     "output_type": "stream",
     "text": [
      "Epoch 1/100\n"
     ]
    },
    {
     "name": "stdout",
     "output_type": "stream",
     "text": [
      "11/11 - 3s - 294ms/step - loss: 0.0741 - val_loss: 0.0249\n",
      "Epoch 2/100\n",
      "11/11 - 0s - 17ms/step - loss: 0.0131 - val_loss: 0.0230\n",
      "Epoch 3/100\n",
      "11/11 - 0s - 17ms/step - loss: 0.0067 - val_loss: 0.0032\n",
      "Epoch 4/100\n",
      "11/11 - 0s - 19ms/step - loss: 0.0033 - val_loss: 0.0049\n",
      "Epoch 5/100\n",
      "11/11 - 0s - 17ms/step - loss: 0.0018 - val_loss: 0.0016\n",
      "Epoch 6/100\n",
      "11/11 - 0s - 17ms/step - loss: 0.0014 - val_loss: 0.0017\n",
      "Epoch 7/100\n",
      "11/11 - 0s - 20ms/step - loss: 0.0013 - val_loss: 0.0019\n",
      "Epoch 8/100\n",
      "11/11 - 0s - 17ms/step - loss: 0.0013 - val_loss: 0.0016\n",
      "Epoch 9/100\n",
      "11/11 - 0s - 18ms/step - loss: 0.0012 - val_loss: 0.0017\n",
      "Epoch 10/100\n",
      "11/11 - 0s - 18ms/step - loss: 0.0013 - val_loss: 0.0022\n",
      "Epoch 11/100\n",
      "11/11 - 0s - 19ms/step - loss: 0.0012 - val_loss: 0.0017\n",
      "Epoch 12/100\n",
      "11/11 - 0s - 19ms/step - loss: 0.0012 - val_loss: 0.0017\n",
      "Epoch 13/100\n",
      "11/11 - 0s - 17ms/step - loss: 0.0012 - val_loss: 0.0017\n",
      "Epoch 14/100\n",
      "11/11 - 0s - 18ms/step - loss: 0.0012 - val_loss: 0.0016\n",
      "Epoch 15/100\n",
      "11/11 - 0s - 19ms/step - loss: 0.0012 - val_loss: 0.0015\n",
      "Epoch 16/100\n",
      "11/11 - 0s - 17ms/step - loss: 0.0012 - val_loss: 0.0016\n",
      "Epoch 17/100\n",
      "11/11 - 0s - 18ms/step - loss: 0.0012 - val_loss: 0.0016\n",
      "Epoch 18/100\n",
      "11/11 - 0s - 18ms/step - loss: 0.0012 - val_loss: 0.0017\n",
      "Epoch 19/100\n",
      "11/11 - 0s - 18ms/step - loss: 0.0012 - val_loss: 0.0018\n",
      "Epoch 20/100\n",
      "11/11 - 0s - 17ms/step - loss: 0.0012 - val_loss: 0.0017\n",
      "Epoch 21/100\n",
      "11/11 - 0s - 18ms/step - loss: 0.0011 - val_loss: 0.0016\n",
      "Epoch 22/100\n",
      "11/11 - 0s - 32ms/step - loss: 0.0011 - val_loss: 0.0018\n",
      "Epoch 23/100\n",
      "11/11 - 0s - 17ms/step - loss: 0.0012 - val_loss: 0.0017\n",
      "Epoch 24/100\n",
      "11/11 - 0s - 17ms/step - loss: 0.0011 - val_loss: 0.0015\n",
      "Epoch 25/100\n",
      "11/11 - 0s - 18ms/step - loss: 0.0012 - val_loss: 0.0015\n",
      "Epoch 26/100\n",
      "11/11 - 0s - 16ms/step - loss: 0.0012 - val_loss: 0.0015\n",
      "Epoch 27/100\n",
      "11/11 - 0s - 18ms/step - loss: 0.0011 - val_loss: 0.0015\n",
      "Epoch 28/100\n",
      "11/11 - 0s - 17ms/step - loss: 0.0012 - val_loss: 0.0015\n",
      "Epoch 29/100\n",
      "11/11 - 0s - 17ms/step - loss: 0.0011 - val_loss: 0.0016\n",
      "Epoch 30/100\n",
      "11/11 - 0s - 19ms/step - loss: 0.0011 - val_loss: 0.0016\n",
      "Epoch 31/100\n",
      "11/11 - 0s - 17ms/step - loss: 0.0011 - val_loss: 0.0014\n",
      "Epoch 32/100\n",
      "11/11 - 0s - 20ms/step - loss: 0.0011 - val_loss: 0.0015\n",
      "Epoch 33/100\n",
      "11/11 - 0s - 18ms/step - loss: 0.0011 - val_loss: 0.0017\n",
      "Epoch 34/100\n",
      "11/11 - 0s - 19ms/step - loss: 0.0011 - val_loss: 0.0014\n",
      "Epoch 35/100\n",
      "11/11 - 0s - 17ms/step - loss: 0.0011 - val_loss: 0.0014\n",
      "Epoch 36/100\n",
      "11/11 - 0s - 18ms/step - loss: 0.0010 - val_loss: 0.0019\n",
      "Epoch 37/100\n",
      "11/11 - 0s - 18ms/step - loss: 0.0011 - val_loss: 0.0020\n",
      "Epoch 38/100\n",
      "11/11 - 0s - 18ms/step - loss: 0.0011 - val_loss: 0.0015\n",
      "Epoch 39/100\n",
      "11/11 - 0s - 17ms/step - loss: 0.0011 - val_loss: 0.0014\n",
      "Epoch 40/100\n",
      "11/11 - 0s - 17ms/step - loss: 0.0011 - val_loss: 0.0014\n",
      "Epoch 41/100\n",
      "11/11 - 0s - 18ms/step - loss: 0.0011 - val_loss: 0.0013\n",
      "Epoch 42/100\n",
      "11/11 - 0s - 18ms/step - loss: 0.0010 - val_loss: 0.0014\n",
      "Epoch 43/100\n",
      "11/11 - 0s - 18ms/step - loss: 0.0011 - val_loss: 0.0014\n",
      "Epoch 44/100\n",
      "11/11 - 0s - 18ms/step - loss: 0.0010 - val_loss: 0.0016\n",
      "Epoch 45/100\n",
      "11/11 - 0s - 20ms/step - loss: 0.0010 - val_loss: 0.0017\n",
      "Epoch 46/100\n",
      "11/11 - 0s - 17ms/step - loss: 0.0011 - val_loss: 0.0013\n",
      "Epoch 47/100\n",
      "11/11 - 0s - 17ms/step - loss: 0.0011 - val_loss: 0.0013\n",
      "Epoch 48/100\n",
      "11/11 - 0s - 17ms/step - loss: 0.0010 - val_loss: 0.0013\n",
      "Epoch 49/100\n",
      "11/11 - 0s - 17ms/step - loss: 0.0011 - val_loss: 0.0014\n",
      "Epoch 50/100\n",
      "11/11 - 0s - 17ms/step - loss: 9.6795e-04 - val_loss: 0.0015\n",
      "Epoch 51/100\n",
      "11/11 - 0s - 17ms/step - loss: 9.4172e-04 - val_loss: 0.0020\n",
      "Epoch 52/100\n",
      "11/11 - 0s - 18ms/step - loss: 0.0010 - val_loss: 0.0015\n",
      "Epoch 53/100\n",
      "11/11 - 0s - 17ms/step - loss: 9.2575e-04 - val_loss: 0.0013\n",
      "Epoch 54/100\n",
      "11/11 - 0s - 18ms/step - loss: 9.1732e-04 - val_loss: 0.0012\n",
      "Epoch 55/100\n",
      "11/11 - 0s - 18ms/step - loss: 9.3243e-04 - val_loss: 0.0012\n",
      "Epoch 56/100\n",
      "11/11 - 0s - 18ms/step - loss: 9.4514e-04 - val_loss: 0.0016\n",
      "Epoch 57/100\n",
      "11/11 - 0s - 32ms/step - loss: 9.8221e-04 - val_loss: 0.0011\n",
      "Epoch 58/100\n",
      "11/11 - 0s - 19ms/step - loss: 9.4808e-04 - val_loss: 0.0011\n",
      "Epoch 59/100\n",
      "11/11 - 0s - 17ms/step - loss: 9.1380e-04 - val_loss: 0.0016\n",
      "Epoch 60/100\n",
      "11/11 - 0s - 18ms/step - loss: 8.5879e-04 - val_loss: 0.0013\n",
      "Epoch 61/100\n",
      "11/11 - 0s - 18ms/step - loss: 8.5863e-04 - val_loss: 0.0011\n",
      "Epoch 62/100\n",
      "11/11 - 0s - 17ms/step - loss: 8.4096e-04 - val_loss: 0.0012\n",
      "Epoch 63/100\n",
      "11/11 - 0s - 18ms/step - loss: 8.3229e-04 - val_loss: 0.0011\n",
      "Epoch 64/100\n",
      "11/11 - 0s - 18ms/step - loss: 8.4505e-04 - val_loss: 0.0017\n",
      "Epoch 65/100\n",
      "11/11 - 0s - 21ms/step - loss: 9.1416e-04 - val_loss: 0.0011\n",
      "Epoch 66/100\n",
      "11/11 - 0s - 17ms/step - loss: 9.0324e-04 - val_loss: 0.0012\n",
      "Epoch 67/100\n",
      "11/11 - 0s - 17ms/step - loss: 7.9292e-04 - val_loss: 0.0010\n",
      "Epoch 68/100\n",
      "11/11 - 0s - 17ms/step - loss: 8.0196e-04 - val_loss: 0.0014\n",
      "Epoch 69/100\n",
      "11/11 - 0s - 18ms/step - loss: 8.0204e-04 - val_loss: 9.9310e-04\n",
      "Epoch 70/100\n",
      "11/11 - 0s - 17ms/step - loss: 7.7510e-04 - val_loss: 0.0013\n",
      "Epoch 71/100\n",
      "11/11 - 0s - 17ms/step - loss: 7.9008e-04 - val_loss: 9.7772e-04\n",
      "Epoch 72/100\n",
      "11/11 - 0s - 18ms/step - loss: 7.6205e-04 - val_loss: 0.0010\n",
      "Epoch 73/100\n",
      "11/11 - 0s - 18ms/step - loss: 7.5295e-04 - val_loss: 9.8157e-04\n",
      "Epoch 74/100\n",
      "11/11 - 0s - 17ms/step - loss: 7.5361e-04 - val_loss: 9.6064e-04\n",
      "Epoch 75/100\n",
      "11/11 - 0s - 17ms/step - loss: 7.7385e-04 - val_loss: 0.0010\n",
      "Epoch 76/100\n",
      "11/11 - 0s - 18ms/step - loss: 7.4588e-04 - val_loss: 9.3822e-04\n",
      "Epoch 77/100\n",
      "11/11 - 0s - 17ms/step - loss: 7.4870e-04 - val_loss: 0.0013\n",
      "Epoch 78/100\n",
      "11/11 - 0s - 17ms/step - loss: 7.3956e-04 - val_loss: 0.0010\n",
      "Epoch 79/100\n",
      "11/11 - 0s - 17ms/step - loss: 7.3149e-04 - val_loss: 9.0993e-04\n",
      "Epoch 80/100\n",
      "11/11 - 0s - 17ms/step - loss: 7.2882e-04 - val_loss: 9.5479e-04\n",
      "Epoch 81/100\n",
      "11/11 - 0s - 17ms/step - loss: 7.2679e-04 - val_loss: 9.0206e-04\n",
      "Epoch 82/100\n",
      "11/11 - 0s - 17ms/step - loss: 7.1401e-04 - val_loss: 0.0011\n",
      "Epoch 83/100\n",
      "11/11 - 0s - 17ms/step - loss: 7.1214e-04 - val_loss: 9.4157e-04\n",
      "Epoch 84/100\n",
      "11/11 - 0s - 17ms/step - loss: 7.1271e-04 - val_loss: 8.8030e-04\n",
      "Epoch 85/100\n",
      "11/11 - 0s - 18ms/step - loss: 7.2424e-04 - val_loss: 8.7614e-04\n",
      "Epoch 86/100\n",
      "11/11 - 0s - 18ms/step - loss: 7.1207e-04 - val_loss: 8.6283e-04\n",
      "Epoch 87/100\n",
      "11/11 - 0s - 19ms/step - loss: 7.3827e-04 - val_loss: 8.6053e-04\n",
      "Epoch 88/100\n",
      "11/11 - 0s - 17ms/step - loss: 7.4649e-04 - val_loss: 0.0010\n",
      "Epoch 89/100\n",
      "11/11 - 0s - 19ms/step - loss: 7.1710e-04 - val_loss: 0.0010\n",
      "Epoch 90/100\n",
      "11/11 - 0s - 17ms/step - loss: 7.4508e-04 - val_loss: 9.1758e-04\n",
      "Epoch 91/100\n",
      "11/11 - 0s - 17ms/step - loss: 6.7410e-04 - val_loss: 8.8096e-04\n",
      "Epoch 92/100\n",
      "11/11 - 0s - 17ms/step - loss: 6.9287e-04 - val_loss: 8.7692e-04\n",
      "Epoch 93/100\n",
      "11/11 - 0s - 17ms/step - loss: 6.6991e-04 - val_loss: 8.4601e-04\n",
      "Epoch 94/100\n",
      "11/11 - 0s - 17ms/step - loss: 6.9453e-04 - val_loss: 0.0013\n",
      "Epoch 95/100\n",
      "11/11 - 0s - 18ms/step - loss: 6.8629e-04 - val_loss: 8.2226e-04\n",
      "Epoch 96/100\n",
      "11/11 - 0s - 18ms/step - loss: 7.0832e-04 - val_loss: 8.0792e-04\n",
      "Epoch 97/100\n",
      "11/11 - 0s - 17ms/step - loss: 8.8093e-04 - val_loss: 0.0020\n",
      "Epoch 98/100\n",
      "11/11 - 0s - 18ms/step - loss: 9.3822e-04 - val_loss: 0.0011\n",
      "Epoch 99/100\n",
      "11/11 - 0s - 19ms/step - loss: 7.9380e-04 - val_loss: 0.0010\n",
      "Epoch 100/100\n",
      "11/11 - 0s - 17ms/step - loss: 7.0578e-04 - val_loss: 8.6959e-04\n"
     ]
    },
    {
     "data": {
      "text/plain": [
       "<keras.src.callbacks.history.History at 0x259dcaa9d00>"
      ]
     },
     "execution_count": 25,
     "metadata": {},
     "output_type": "execute_result"
    }
   ],
   "source": [
    "# Training the Model\n",
    "model.fit(X_train, y_train, batch_size=64, epochs=100, validation_data=(X_test, y_test), verbose=2)"
   ]
  },
  {
   "cell_type": "code",
   "execution_count": 26,
   "metadata": {},
   "outputs": [
    {
     "name": "stdout",
     "output_type": "stream",
     "text": [
      "\u001b[1m22/22\u001b[0m \u001b[32m━━━━━━━━━━━━━━━━━━━━\u001b[0m\u001b[37m\u001b[0m \u001b[1m1s\u001b[0m 15ms/step\n",
      "\u001b[1m12/12\u001b[0m \u001b[32m━━━━━━━━━━━━━━━━━━━━\u001b[0m\u001b[37m\u001b[0m \u001b[1m0s\u001b[0m 4ms/step \n",
      "----Training Data Metrics----\n",
      "Train RMSE:  2.9984303439480646\n",
      "Train MSE:  8.990584527508508\n",
      "Train MAE:  2.2894742145702276\n",
      "-------------------------------\n",
      "----Testing Data Metrics----\n",
      "Test RMSE:  3.516342319495535\n",
      "Test MSE:  12.36466330787524\n",
      "Test MAE:  2.714201904958503\n"
     ]
    }
   ],
   "source": [
    "# Evaluating the Model\n",
    "# Making predictions\n",
    "train_predict = model.predict(X_train)\n",
    "test_predict = model.predict(X_test)\n",
    "\n",
    "# Inverting predictions back to original scale\n",
    "train_predict = scaler.inverse_transform(train_predict)\n",
    "y_train_inv = scaler.inverse_transform(y_train.reshape(-1, 1))\n",
    "test_predict = scaler.inverse_transform(test_predict)\n",
    "y_test_inv = scaler.inverse_transform(y_test.reshape(-1, 1))\n",
    "\n",
    "# Calculate RMSE, MSE, and MAE for training data\n",
    "train_rmse = math.sqrt(mean_squared_error(y_train_inv, train_predict))\n",
    "train_mse = mean_squared_error(y_train_inv, train_predict)\n",
    "train_mae = mean_absolute_error(y_train_inv, train_predict)\n",
    "\n",
    "# Calculate RMSE, MSE, and MAE for testing data\n",
    "test_rmse = math.sqrt(mean_squared_error(y_test_inv, test_predict))\n",
    "test_mse = mean_squared_error(y_test_inv, test_predict)\n",
    "test_mae = mean_absolute_error(y_test_inv, test_predict)\n",
    "\n",
    "# Print training and testing metrics\n",
    "print(\"----Training Data Metrics----\")\n",
    "print(\"Train RMSE: \", train_rmse)\n",
    "print(\"Train MSE: \", train_mse)\n",
    "print(\"Train MAE: \", train_mae)\n",
    "print(\"-------------------------------\")\n",
    "\n",
    "print(\"----Testing Data Metrics----\")\n",
    "print(\"Test RMSE: \", test_rmse)\n",
    "print(\"Test MSE: \", test_mse)\n",
    "print(\"Test MAE: \", test_mae)"
   ]
  },
  {
   "cell_type": "code",
   "execution_count": 27,
   "metadata": {},
   "outputs": [
    {
     "name": "stdout",
     "output_type": "stream",
     "text": [
      "Train R2 Score:  0.987583614648427\n",
      "Test R2 Score:  0.9721360902179305\n"
     ]
    }
   ],
   "source": [
    "# R2 score for regression\n",
    "train_r2 = r2_score(y_train_inv, train_predict)\n",
    "test_r2 = r2_score(y_test_inv, test_predict)\n",
    "\n",
    "# Display the metrics\n",
    "print(\"Train R2 Score: \", train_r2)\n",
    "print(\"Test R2 Score: \", test_r2)\n"
   ]
  },
  {
   "cell_type": "code",
   "execution_count": 28,
   "metadata": {},
   "outputs": [
    {
     "data": {
      "text/html": [
       "\n",
       "        <iframe\n",
       "            width=\"100%\"\n",
       "            height=\"600\"\n",
       "            src=\"http://localhost:60082\"\n",
       "            frameborder=\"0\"\n",
       "            allowfullscreen\n",
       "            \n",
       "        ></iframe>\n",
       "        "
      ],
      "text/plain": [
       "<IPython.lib.display.IFrame at 0x259e4d89f10>"
      ]
     },
     "execution_count": 28,
     "metadata": {},
     "output_type": "execute_result"
    },
    {
     "name": "stderr",
     "output_type": "stream",
     "text": [
      "127.0.0.1 - - [04/Jun/2024 13:37:29] \"GET / HTTP/1.1\" 200 -\n"
     ]
    }
   ],
   "source": [
    "# Comparison of Actual vs Predicted Close Prices\n",
    "chart = lc.ChartXY(title='Comparison of Actual vs Predicted Close Prices')\n",
    "\n",
    "# Dispose the default x-axis and create a high precision datetime axis\n",
    "chart.get_default_x_axis().dispose()\n",
    "axis_x = chart.add_x_axis(axis_type='linear-highPrecision')\n",
    "axis_x.set_tick_strategy('DateTime')\n",
    "\n",
    "# Convert datetime to timestamps for plotting\n",
    "date_timestamps = [x.timestamp() * 1000 for x in filtered_df['date']]\n",
    "\n",
    "# Convert predictions, ensuring they are flat and adjusted for visualization\n",
    "trainPredictPlot_adjusted = [float(x[0]) if not np.isnan(x[0]) else np.nan for x in train_predict]\n",
    "testPredictPlot_adjusted = [float(x[0]) if not np.isnan(x[0]) else np.nan for x in test_predict]\n",
    "\n",
    "# Plot actual prices\n",
    "series_actual = chart.add_line_series()\n",
    "series_actual.add(x=date_timestamps, y=filtered_df['close'].tolist())\n",
    "series_actual.set_name('Actual Prices')  # Assuming set_name() or similar method is available\n",
    "\n",
    "# Plot train predicted prices if valid data exists\n",
    "if not np.all(np.isnan(trainPredictPlot_adjusted)):\n",
    "    series_train_predicted = chart.add_line_series()\n",
    "    series_train_predicted.add(x=date_timestamps[:len(trainPredictPlot_adjusted)], y=trainPredictPlot_adjusted)\n",
    "    series_train_predicted.set_name('Train Predictions')  # Assuming set_name() or similar method is available\n",
    "\n",
    "# Plot test predicted prices if valid data exists\n",
    "if not np.all(np.isnan(testPredictPlot_adjusted)):\n",
    "    series_test_predicted = chart.add_line_series()\n",
    "    series_test_predicted.add(x=date_timestamps[-len(testPredictPlot_adjusted):], y=testPredictPlot_adjusted)\n",
    "    series_test_predicted.set_name('Test Predictions')  # Assuming set_name() or similar method is available\n",
    "\n",
    "# Add a legend to the chart\n",
    "legend = chart.add_legend()\n",
    "legend.add(series_actual)  # Attach the actual series to the legend\n",
    "legend.add(series_train_predicted)  # Attach the train prediction series to the legend\n",
    "legend.add(series_test_predicted)  # Attach the test prediction series to the legend\n",
    "\n",
    "# Open the chart\n",
    "chart.open()\n"
   ]
  },
  {
   "cell_type": "code",
   "execution_count": 29,
   "metadata": {},
   "outputs": [
    {
     "name": "stdout",
     "output_type": "stream",
     "text": [
      "        date  predicted_close\n",
      "0 2024-05-15       167.756357\n",
      "1 2024-05-16       167.388284\n",
      "2 2024-05-17       166.830364\n",
      "3 2024-05-18       166.305530\n",
      "4 2024-05-19       165.699770\n",
      "5 2024-05-20       165.047876\n",
      "6 2024-05-21       164.388690\n",
      "7 2024-05-22       163.739560\n",
      "8 2024-05-23       163.090843\n",
      "9 2024-05-24       162.448594\n"
     ]
    },
    {
     "data": {
      "text/html": [
       "\n",
       "        <iframe\n",
       "            width=\"100%\"\n",
       "            height=\"600\"\n",
       "            src=\"http://localhost:60083\"\n",
       "            frameborder=\"0\"\n",
       "            allowfullscreen\n",
       "            \n",
       "        ></iframe>\n",
       "        "
      ],
      "text/plain": [
       "<IPython.lib.display.IFrame at 0x259deac0560>"
      ]
     },
     "execution_count": 29,
     "metadata": {},
     "output_type": "execute_result"
    },
    {
     "name": "stderr",
     "output_type": "stream",
     "text": [
      "127.0.0.1 - - [04/Jun/2024 13:37:29] \"GET / HTTP/1.1\" 200 -\n"
     ]
    }
   ],
   "source": [
    "\n",
    "filtered_df = df_googl[(df_googl['date'] >= specified_start_date) & (df_googl['date'] <= specified_end_date)]\n",
    "\n",
    "# Normalize/scale the close values between 0 and 1\n",
    "close_stock_values = filtered_df['close'].values.reshape(-1, 1)\n",
    "scaler = MinMaxScaler(feature_range=(0, 1))\n",
    "normalized_close_values = scaler.fit_transform(close_stock_values)\n",
    "\n",
    "# Prepare the input data for prediction\n",
    "time_step = 15  # Assuming time_step from previous context\n",
    "test_data = normalized_close_values[-time_step:]\n",
    "x_input = test_data.reshape(1, -1)\n",
    "temp_input = list(x_input)\n",
    "temp_input = temp_input[0].tolist()\n",
    "\n",
    "# Predict next 10 days\n",
    "lst_output = []\n",
    "n_steps = time_step\n",
    "pred_days = 10\n",
    "\n",
    "for i in range(pred_days):\n",
    "    if len(temp_input) > time_step:\n",
    "        x_input = np.array(temp_input[1:])\n",
    "        x_input = x_input.reshape(1, -1)\n",
    "        x_input = x_input.reshape((1, n_steps, 1))\n",
    "        yhat = model.predict(x_input, verbose=0)\n",
    "        temp_input.extend(yhat[0].tolist())\n",
    "        temp_input = temp_input[1:]\n",
    "        lst_output.extend(yhat.tolist())\n",
    "    else:\n",
    "        x_input = x_input.reshape((1, n_steps, 1))\n",
    "        yhat = model.predict(x_input, verbose=0)\n",
    "        temp_input.extend(yhat[0].tolist())\n",
    "        lst_output.extend(yhat.tolist())\n",
    "\n",
    "# Invert the predictions back to original scale\n",
    "predicted_values = scaler.inverse_transform(np.array(lst_output).reshape(-1, 1))\n",
    "\n",
    "# Create a DataFrame to display the results\n",
    "future_dates = pd.date_range(start=filtered_df['date'].iloc[-1], periods=pred_days + 1, inclusive='right')\n",
    "prediction_df = pd.DataFrame({'date': future_dates, 'predicted_close': predicted_values.flatten()})\n",
    "\n",
    "# Display the prediction DataFrame\n",
    "print(prediction_df)\n",
    "\n",
    "# Prepare data for LC chart\n",
    "actual_dates = filtered_df['date'].tolist()\n",
    "actual_close = filtered_df['close'].tolist()\n",
    "predicted_dates = prediction_df['date'].tolist()\n",
    "predicted_close = prediction_df['predicted_close'].tolist()\n",
    "\n",
    "# Initialize LightningChart and set the license key\n",
    "chart = lc.ChartXY(title='Actual vs Predicted Close Prices')\n",
    "\n",
    "# Dispose the default x-axis and create a high precision datetime axis\n",
    "chart.get_default_x_axis().dispose()\n",
    "axis_x = chart.add_x_axis(axis_type='linear-highPrecision')\n",
    "axis_x.set_tick_strategy('DateTime')\n",
    "\n",
    "# Convert datetime to timestamps for plotting\n",
    "actual_date_timestamps = [x.timestamp() * 1000 for x in actual_dates]\n",
    "predicted_date_timestamps = [x.timestamp() * 1000 for x in predicted_dates]\n",
    "\n",
    "# Plot actual prices\n",
    "series_actual = chart.add_line_series()\n",
    "series_actual.add(x=actual_date_timestamps, y=actual_close)\n",
    "series_actual.set_name('Actual Prices')\n",
    "\n",
    "# Plot predicted prices\n",
    "series_predicted = chart.add_line_series()\n",
    "series_predicted.add(x=predicted_date_timestamps, y=predicted_close)\n",
    "series_predicted.set_name('Predicted Prices')\n",
    "\n",
    "# Add a legend to the chart\n",
    "legend = chart.add_legend()\n",
    "legend.add(series_actual)\n",
    "legend.add(series_predicted)\n",
    "\n",
    "# Open the chart\n",
    "chart.open()\n"
   ]
  },
  {
   "cell_type": "code",
   "execution_count": 30,
   "metadata": {},
   "outputs": [
    {
     "data": {
      "text/html": [
       "\n",
       "        <iframe\n",
       "            width=\"100%\"\n",
       "            height=\"600\"\n",
       "            src=\"http://localhost:60084\"\n",
       "            frameborder=\"0\"\n",
       "            allowfullscreen\n",
       "            \n",
       "        ></iframe>\n",
       "        "
      ],
      "text/plain": [
       "<IPython.lib.display.IFrame at 0x259dd059670>"
      ]
     },
     "execution_count": 30,
     "metadata": {},
     "output_type": "execute_result"
    },
    {
     "name": "stderr",
     "output_type": "stream",
     "text": [
      "127.0.0.1 - - [04/Jun/2024 13:26:34] \"GET / HTTP/1.1\" 200 -\n"
     ]
    }
   ],
   "source": [
    "# Final Prediction\n",
    "# Convert predictions, ensuring they are flat and adjusted for visualization\n",
    "trainPredictPlot_adjusted = [float(x[0]) if not np.isnan(x[0]) else np.nan for x in train_predict]\n",
    "testPredictPlot_adjusted = [float(x[0]) if not np.isnan(x[0]) else np.nan for x in test_predict]\n",
    "\n",
    "# Plot actual prices\n",
    "series_actual = chart.add_line_series()\n",
    "series_actual.add(x=date_timestamps, y=filtered_df['close'].tolist())\n",
    "series_actual.set_name('Actual Prices')  # Assuming set_name() or similar method is available\n",
    "\n",
    "# Plot train predicted prices if valid data exists\n",
    "if not np.all(np.isnan(trainPredictPlot_adjusted)):\n",
    "    series_train_predicted = chart.add_line_series()\n",
    "    series_train_predicted.add(x=date_timestamps[:len(trainPredictPlot_adjusted)], y=trainPredictPlot_adjusted)\n",
    "    series_train_predicted.set_name('Train Predictions')  # Assuming set_name() or similar method is available\n",
    "\n",
    "# Plot test predicted prices if valid data exists\n",
    "if not np.all(np.isnan(testPredictPlot_adjusted)):\n",
    "    series_test_predicted = chart.add_line_series()\n",
    "    series_test_predicted.add(x=date_timestamps[-len(testPredictPlot_adjusted):], y=testPredictPlot_adjusted)\n",
    "    series_test_predicted.set_name('Test Predictions')  # Assuming set_name() or similar method is available\n",
    "\n",
    "# Plot future predicted prices\n",
    "series_future_predicted = chart.add_line_series()\n",
    "series_future_predicted.add(x=predicted_date_timestamps, y=predicted_close)\n",
    "series_future_predicted.set_name('Future Predictions')\n",
    "\n",
    "# Add a legend to the chart\n",
    "legend = chart.add_legend()\n",
    "legend.add(series_actual)  # Attach the actual series to the legend\n",
    "legend.add(series_train_predicted)  # Attach the train prediction series to the legend\n",
    "legend.add(series_test_predicted)  # Attach the test prediction series to the legend\n",
    "legend.add(series_future_predicted)\n",
    "\n",
    "# Add text boxes to display metrics\n",
    "textbox1 = chart.add_textbox()\n",
    "textbox1.set_text(f'Train RMSE: {train_rmse:.2f}')\n",
    "textbox1.set_position(0.05, 0.95)\n",
    "\n",
    "textbox2 = chart.add_textbox()\n",
    "textbox2.set_text(f'Train MSE: {train_mse:.2f}')\n",
    "textbox2.set_position(0.05, 0.90)\n",
    "\n",
    "textbox3 = chart.add_textbox()\n",
    "textbox3.set_text(f'Train MAE: {train_mae:.2f}')\n",
    "textbox3.set_position(0.05, 0.85)\n",
    "\n",
    "textbox4 = chart.add_textbox()\n",
    "textbox4.set_text(f'Test RMSE: {test_rmse:.2f}')\n",
    "textbox4.set_position(0.05, 0.80)\n",
    "\n",
    "textbox5 = chart.add_textbox()\n",
    "textbox5.set_text(f'Test MSE: {test_mse:.2f}')\n",
    "textbox5.set_position(0.05, 0.75)\n",
    "\n",
    "textbox6 = chart.add_textbox()\n",
    "textbox6.set_text(f'Test MAE: {test_mae:.2f}')\n",
    "textbox6.set_position(0.05, 0.70)\n",
    "\n",
    "textbox7 = chart.add_textbox()\n",
    "textbox7.set_text(f'Train R²: {train_r2:.2f}')\n",
    "textbox7.set_position(0.05, 0.65)\n",
    "\n",
    "textbox8 = chart.add_textbox()\n",
    "textbox8.set_text(f'Test R²: {test_r2:.2f}')\n",
    "textbox8.set_position(0.05, 0.60)\n",
    "\n",
    "# Open the chart\n",
    "chart.open()"
   ]
  }
 ],
 "metadata": {
  "kernelspec": {
   "display_name": "Python 3",
   "language": "python",
   "name": "python3"
  },
  "language_info": {
   "codemirror_mode": {
    "name": "ipython",
    "version": 3
   },
   "file_extension": ".py",
   "mimetype": "text/x-python",
   "name": "python",
   "nbconvert_exporter": "python",
   "pygments_lexer": "ipython3",
   "version": "3.12.2"
  }
 },
 "nbformat": 4,
 "nbformat_minor": 2
}
