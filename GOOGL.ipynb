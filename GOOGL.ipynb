{
 "cells": [
  {
   "cell_type": "code",
   "execution_count": 1,
   "metadata": {},
   "outputs": [],
   "source": [
    "import lightningchart as lc\n",
    "import random\n",
    "lc.set_license('my-license-key')\n",
    "\n",
    "import numpy as np\n",
    "import pandas as pd\n",
    "\n",
    "import math\n",
    "from datetime import datetime\n",
    "from sklearn.preprocessing import MinMaxScaler\n",
    "from sklearn.metrics import mean_squared_error, mean_absolute_error, r2_score\n",
    "\n",
    "from tensorflow.keras.models import Sequential\n",
    "from tensorflow.keras.layers import Dense, LSTM\n"
   ]
  },
  {
   "cell_type": "code",
   "execution_count": 2,
   "metadata": {},
   "outputs": [
    {
     "data": {
      "text/html": [
       "<div>\n",
       "<style scoped>\n",
       "    .dataframe tbody tr th:only-of-type {\n",
       "        vertical-align: middle;\n",
       "    }\n",
       "\n",
       "    .dataframe tbody tr th {\n",
       "        vertical-align: top;\n",
       "    }\n",
       "\n",
       "    .dataframe thead th {\n",
       "        text-align: right;\n",
       "    }\n",
       "</style>\n",
       "<table border=\"1\" class=\"dataframe\">\n",
       "  <thead>\n",
       "    <tr style=\"text-align: right;\">\n",
       "      <th></th>\n",
       "      <th>Date</th>\n",
       "      <th>Open</th>\n",
       "      <th>High</th>\n",
       "      <th>Low</th>\n",
       "      <th>Close</th>\n",
       "      <th>Volume</th>\n",
       "    </tr>\n",
       "  </thead>\n",
       "  <tbody>\n",
       "    <tr>\n",
       "      <th>0</th>\n",
       "      <td>2004-08-19</td>\n",
       "      <td>2.508</td>\n",
       "      <td>2.610</td>\n",
       "      <td>2.406</td>\n",
       "      <td>2.516</td>\n",
       "      <td>44659000</td>\n",
       "    </tr>\n",
       "    <tr>\n",
       "      <th>1</th>\n",
       "      <td>2004-08-20</td>\n",
       "      <td>2.533</td>\n",
       "      <td>2.735</td>\n",
       "      <td>2.520</td>\n",
       "      <td>2.716</td>\n",
       "      <td>22834300</td>\n",
       "    </tr>\n",
       "    <tr>\n",
       "      <th>2</th>\n",
       "      <td>2004-08-23</td>\n",
       "      <td>2.778</td>\n",
       "      <td>2.846</td>\n",
       "      <td>2.735</td>\n",
       "      <td>2.743</td>\n",
       "      <td>18256100</td>\n",
       "    </tr>\n",
       "    <tr>\n",
       "      <th>3</th>\n",
       "      <td>2004-08-24</td>\n",
       "      <td>2.790</td>\n",
       "      <td>2.799</td>\n",
       "      <td>2.597</td>\n",
       "      <td>2.630</td>\n",
       "      <td>15247300</td>\n",
       "    </tr>\n",
       "    <tr>\n",
       "      <th>4</th>\n",
       "      <td>2004-08-25</td>\n",
       "      <td>2.627</td>\n",
       "      <td>2.708</td>\n",
       "      <td>2.605</td>\n",
       "      <td>2.658</td>\n",
       "      <td>9188600</td>\n",
       "    </tr>\n",
       "  </tbody>\n",
       "</table>\n",
       "</div>"
      ],
      "text/plain": [
       "         Date   Open   High    Low  Close    Volume\n",
       "0  2004-08-19  2.508  2.610  2.406  2.516  44659000\n",
       "1  2004-08-20  2.533  2.735  2.520  2.716  22834300\n",
       "2  2004-08-23  2.778  2.846  2.735  2.743  18256100\n",
       "3  2004-08-24  2.790  2.799  2.597  2.630  15247300\n",
       "4  2004-08-25  2.627  2.708  2.605  2.658   9188600"
      ]
     },
     "execution_count": 2,
     "metadata": {},
     "output_type": "execute_result"
    }
   ],
   "source": [
    "# Import dataset\n",
    "df_googl = pd.read_csv('./Alphabet Inc - Class A (GOOGL).csv')\n",
    "df_googl.head()"
   ]
  },
  {
   "cell_type": "code",
   "execution_count": 3,
   "metadata": {},
   "outputs": [
    {
     "data": {
      "text/html": [
       "<div>\n",
       "<style scoped>\n",
       "    .dataframe tbody tr th:only-of-type {\n",
       "        vertical-align: middle;\n",
       "    }\n",
       "\n",
       "    .dataframe tbody tr th {\n",
       "        vertical-align: top;\n",
       "    }\n",
       "\n",
       "    .dataframe thead th {\n",
       "        text-align: right;\n",
       "    }\n",
       "</style>\n",
       "<table border=\"1\" class=\"dataframe\">\n",
       "  <thead>\n",
       "    <tr style=\"text-align: right;\">\n",
       "      <th></th>\n",
       "      <th>date</th>\n",
       "      <th>open</th>\n",
       "      <th>high</th>\n",
       "      <th>low</th>\n",
       "      <th>close</th>\n",
       "      <th>Volume</th>\n",
       "    </tr>\n",
       "  </thead>\n",
       "  <tbody>\n",
       "    <tr>\n",
       "      <th>0</th>\n",
       "      <td>2004-08-19</td>\n",
       "      <td>2.508</td>\n",
       "      <td>2.610</td>\n",
       "      <td>2.406</td>\n",
       "      <td>2.516</td>\n",
       "      <td>44659000</td>\n",
       "    </tr>\n",
       "    <tr>\n",
       "      <th>1</th>\n",
       "      <td>2004-08-20</td>\n",
       "      <td>2.533</td>\n",
       "      <td>2.735</td>\n",
       "      <td>2.520</td>\n",
       "      <td>2.716</td>\n",
       "      <td>22834300</td>\n",
       "    </tr>\n",
       "    <tr>\n",
       "      <th>2</th>\n",
       "      <td>2004-08-23</td>\n",
       "      <td>2.778</td>\n",
       "      <td>2.846</td>\n",
       "      <td>2.735</td>\n",
       "      <td>2.743</td>\n",
       "      <td>18256100</td>\n",
       "    </tr>\n",
       "    <tr>\n",
       "      <th>3</th>\n",
       "      <td>2004-08-24</td>\n",
       "      <td>2.790</td>\n",
       "      <td>2.799</td>\n",
       "      <td>2.597</td>\n",
       "      <td>2.630</td>\n",
       "      <td>15247300</td>\n",
       "    </tr>\n",
       "    <tr>\n",
       "      <th>4</th>\n",
       "      <td>2004-08-25</td>\n",
       "      <td>2.627</td>\n",
       "      <td>2.708</td>\n",
       "      <td>2.605</td>\n",
       "      <td>2.658</td>\n",
       "      <td>9188600</td>\n",
       "    </tr>\n",
       "  </tbody>\n",
       "</table>\n",
       "</div>"
      ],
      "text/plain": [
       "         date   open   high    low  close    Volume\n",
       "0  2004-08-19  2.508  2.610  2.406  2.516  44659000\n",
       "1  2004-08-20  2.533  2.735  2.520  2.716  22834300\n",
       "2  2004-08-23  2.778  2.846  2.735  2.743  18256100\n",
       "3  2004-08-24  2.790  2.799  2.597  2.630  15247300\n",
       "4  2004-08-25  2.627  2.708  2.605  2.658   9188600"
      ]
     },
     "execution_count": 3,
     "metadata": {},
     "output_type": "execute_result"
    }
   ],
   "source": [
    "# Rename columns\n",
    "df_googl.rename(columns={\"Date\":\"date\",\"Open\":\"open\",\"High\":\"high\",\"Low\":\"low\",\"Close\":\"close\"}, inplace= True)\n",
    "df_googl.head()"
   ]
  },
  {
   "cell_type": "code",
   "execution_count": 4,
   "metadata": {},
   "outputs": [
    {
     "data": {
      "text/html": [
       "<div>\n",
       "<style scoped>\n",
       "    .dataframe tbody tr th:only-of-type {\n",
       "        vertical-align: middle;\n",
       "    }\n",
       "\n",
       "    .dataframe tbody tr th {\n",
       "        vertical-align: top;\n",
       "    }\n",
       "\n",
       "    .dataframe thead th {\n",
       "        text-align: right;\n",
       "    }\n",
       "</style>\n",
       "<table border=\"1\" class=\"dataframe\">\n",
       "  <thead>\n",
       "    <tr style=\"text-align: right;\">\n",
       "      <th></th>\n",
       "      <th>date</th>\n",
       "      <th>open</th>\n",
       "      <th>high</th>\n",
       "      <th>low</th>\n",
       "      <th>close</th>\n",
       "      <th>Volume</th>\n",
       "    </tr>\n",
       "  </thead>\n",
       "  <tbody>\n",
       "    <tr>\n",
       "      <th>0</th>\n",
       "      <td>2004-08-19</td>\n",
       "      <td>2.508</td>\n",
       "      <td>2.610</td>\n",
       "      <td>2.406</td>\n",
       "      <td>2.516</td>\n",
       "      <td>44659000</td>\n",
       "    </tr>\n",
       "    <tr>\n",
       "      <th>1</th>\n",
       "      <td>2004-08-20</td>\n",
       "      <td>2.533</td>\n",
       "      <td>2.735</td>\n",
       "      <td>2.520</td>\n",
       "      <td>2.716</td>\n",
       "      <td>22834300</td>\n",
       "    </tr>\n",
       "    <tr>\n",
       "      <th>2</th>\n",
       "      <td>2004-08-23</td>\n",
       "      <td>2.778</td>\n",
       "      <td>2.846</td>\n",
       "      <td>2.735</td>\n",
       "      <td>2.743</td>\n",
       "      <td>18256100</td>\n",
       "    </tr>\n",
       "    <tr>\n",
       "      <th>3</th>\n",
       "      <td>2004-08-24</td>\n",
       "      <td>2.790</td>\n",
       "      <td>2.799</td>\n",
       "      <td>2.597</td>\n",
       "      <td>2.630</td>\n",
       "      <td>15247300</td>\n",
       "    </tr>\n",
       "    <tr>\n",
       "      <th>4</th>\n",
       "      <td>2004-08-25</td>\n",
       "      <td>2.627</td>\n",
       "      <td>2.708</td>\n",
       "      <td>2.605</td>\n",
       "      <td>2.658</td>\n",
       "      <td>9188600</td>\n",
       "    </tr>\n",
       "  </tbody>\n",
       "</table>\n",
       "</div>"
      ],
      "text/plain": [
       "        date   open   high    low  close    Volume\n",
       "0 2004-08-19  2.508  2.610  2.406  2.516  44659000\n",
       "1 2004-08-20  2.533  2.735  2.520  2.716  22834300\n",
       "2 2004-08-23  2.778  2.846  2.735  2.743  18256100\n",
       "3 2004-08-24  2.790  2.799  2.597  2.630  15247300\n",
       "4 2004-08-25  2.627  2.708  2.605  2.658   9188600"
      ]
     },
     "execution_count": 4,
     "metadata": {},
     "output_type": "execute_result"
    }
   ],
   "source": [
    "# convert date field from string to Date format and make it index\n",
    "df_googl['date'] = pd.to_datetime(df_googl.date)\n",
    "df_googl.head()"
   ]
  },
  {
   "cell_type": "code",
   "execution_count": 5,
   "metadata": {},
   "outputs": [
    {
     "data": {
      "text/html": [
       "<div>\n",
       "<style scoped>\n",
       "    .dataframe tbody tr th:only-of-type {\n",
       "        vertical-align: middle;\n",
       "    }\n",
       "\n",
       "    .dataframe tbody tr th {\n",
       "        vertical-align: top;\n",
       "    }\n",
       "\n",
       "    .dataframe thead th {\n",
       "        text-align: right;\n",
       "    }\n",
       "</style>\n",
       "<table border=\"1\" class=\"dataframe\">\n",
       "  <thead>\n",
       "    <tr style=\"text-align: right;\">\n",
       "      <th></th>\n",
       "      <th>date</th>\n",
       "      <th>open</th>\n",
       "      <th>high</th>\n",
       "      <th>low</th>\n",
       "      <th>close</th>\n",
       "      <th>Volume</th>\n",
       "    </tr>\n",
       "  </thead>\n",
       "  <tbody>\n",
       "    <tr>\n",
       "      <th>0</th>\n",
       "      <td>2004-08-19</td>\n",
       "      <td>2.508</td>\n",
       "      <td>2.610</td>\n",
       "      <td>2.406</td>\n",
       "      <td>2.516</td>\n",
       "      <td>44659000</td>\n",
       "    </tr>\n",
       "    <tr>\n",
       "      <th>1</th>\n",
       "      <td>2004-08-20</td>\n",
       "      <td>2.533</td>\n",
       "      <td>2.735</td>\n",
       "      <td>2.520</td>\n",
       "      <td>2.716</td>\n",
       "      <td>22834300</td>\n",
       "    </tr>\n",
       "    <tr>\n",
       "      <th>2</th>\n",
       "      <td>2004-08-23</td>\n",
       "      <td>2.778</td>\n",
       "      <td>2.846</td>\n",
       "      <td>2.735</td>\n",
       "      <td>2.743</td>\n",
       "      <td>18256100</td>\n",
       "    </tr>\n",
       "    <tr>\n",
       "      <th>3</th>\n",
       "      <td>2004-08-24</td>\n",
       "      <td>2.790</td>\n",
       "      <td>2.799</td>\n",
       "      <td>2.597</td>\n",
       "      <td>2.630</td>\n",
       "      <td>15247300</td>\n",
       "    </tr>\n",
       "    <tr>\n",
       "      <th>4</th>\n",
       "      <td>2004-08-25</td>\n",
       "      <td>2.627</td>\n",
       "      <td>2.708</td>\n",
       "      <td>2.605</td>\n",
       "      <td>2.658</td>\n",
       "      <td>9188600</td>\n",
       "    </tr>\n",
       "  </tbody>\n",
       "</table>\n",
       "</div>"
      ],
      "text/plain": [
       "        date   open   high    low  close    Volume\n",
       "0 2004-08-19  2.508  2.610  2.406  2.516  44659000\n",
       "1 2004-08-20  2.533  2.735  2.520  2.716  22834300\n",
       "2 2004-08-23  2.778  2.846  2.735  2.743  18256100\n",
       "3 2004-08-24  2.790  2.799  2.597  2.630  15247300\n",
       "4 2004-08-25  2.627  2.708  2.605  2.658   9188600"
      ]
     },
     "execution_count": 5,
     "metadata": {},
     "output_type": "execute_result"
    }
   ],
   "source": [
    "# Sorting dataset by date format\n",
    "df_googl.sort_values(by='date', inplace=True)\n",
    "df_googl.head()"
   ]
  },
  {
   "cell_type": "code",
   "execution_count": 6,
   "metadata": {},
   "outputs": [
    {
     "data": {
      "text/plain": [
       "(4968, 6)"
      ]
     },
     "execution_count": 6,
     "metadata": {},
     "output_type": "execute_result"
    }
   ],
   "source": [
    "df_googl.shape"
   ]
  },
  {
   "cell_type": "code",
   "execution_count": 7,
   "metadata": {},
   "outputs": [
    {
     "name": "stdout",
     "output_type": "stream",
     "text": [
      "Actual starting date:  2020-01-02 00:00:00\n",
      "Actual ending date:  2024-05-14 00:00:00\n",
      "Duration:  1594 days 00:00:00\n"
     ]
    }
   ],
   "source": [
    "# Get the duration of dataset\n",
    "# Setting specific start and end dates\n",
    "specified_start_date = pd.to_datetime('2020-01-01')\n",
    "specified_end_date = pd.to_datetime('2024-05-14')\n",
    "\n",
    "# Filter the DataFrame to include only data within the specified date range\n",
    "filtered_df = df_googl[(df_googl['date'] >= specified_start_date) & (df_googl['date'] <= specified_end_date)]\n",
    "\n",
    "# Print the actual start and end date from the filtered DataFrame\n",
    "actual_start_date = filtered_df['date'].iloc[0]\n",
    "actual_end_date = filtered_df['date'].iloc[-1]\n",
    "\n",
    "print(\"Actual starting date: \", actual_start_date)\n",
    "print(\"Actual ending date: \", actual_end_date)\n",
    "print(\"Duration: \", actual_end_date - actual_start_date)\n"
   ]
  },
  {
   "cell_type": "code",
   "execution_count": 8,
   "metadata": {},
   "outputs": [
    {
     "data": {
      "text/html": [
       "<div>\n",
       "<style scoped>\n",
       "    .dataframe tbody tr th:only-of-type {\n",
       "        vertical-align: middle;\n",
       "    }\n",
       "\n",
       "    .dataframe tbody tr th {\n",
       "        vertical-align: top;\n",
       "    }\n",
       "\n",
       "    .dataframe thead th {\n",
       "        text-align: right;\n",
       "    }\n",
       "</style>\n",
       "<table border=\"1\" class=\"dataframe\">\n",
       "  <thead>\n",
       "    <tr style=\"text-align: right;\">\n",
       "      <th></th>\n",
       "      <th>open</th>\n",
       "      <th>close</th>\n",
       "    </tr>\n",
       "    <tr>\n",
       "      <th>date</th>\n",
       "      <th></th>\n",
       "      <th></th>\n",
       "    </tr>\n",
       "  </thead>\n",
       "  <tbody>\n",
       "    <tr>\n",
       "      <th>June</th>\n",
       "      <td>106.549814</td>\n",
       "      <td>106.650419</td>\n",
       "    </tr>\n",
       "    <tr>\n",
       "      <th>March</th>\n",
       "      <td>106.775658</td>\n",
       "      <td>106.912838</td>\n",
       "    </tr>\n",
       "    <tr>\n",
       "      <th>January</th>\n",
       "      <td>106.929069</td>\n",
       "      <td>107.117842</td>\n",
       "    </tr>\n",
       "    <tr>\n",
       "      <th>July</th>\n",
       "      <td>109.155000</td>\n",
       "      <td>109.406410</td>\n",
       "    </tr>\n",
       "    <tr>\n",
       "      <th>February</th>\n",
       "      <td>110.768510</td>\n",
       "      <td>110.740146</td>\n",
       "    </tr>\n",
       "  </tbody>\n",
       "</table>\n",
       "</div>"
      ],
      "text/plain": [
       "                open       close\n",
       "date                            \n",
       "June      106.549814  106.650419\n",
       "March     106.775658  106.912838\n",
       "January   106.929069  107.117842\n",
       "July      109.155000  109.406410\n",
       "February  110.768510  110.740146"
      ]
     },
     "execution_count": 8,
     "metadata": {},
     "output_type": "execute_result"
    }
   ],
   "source": [
    "# Monthvise comparision between open and close price\n",
    "monthvise= filtered_df.groupby(filtered_df['date'].dt.strftime('%B'))[['open','close']].mean().sort_values(by='close')\n",
    "monthvise.head()"
   ]
  },
  {
   "cell_type": "code",
   "execution_count": 9,
   "metadata": {},
   "outputs": [
    {
     "name": "stdout",
     "output_type": "stream",
     "text": [
      "Months:  ['2020-01', '2020-02', '2020-03', '2020-04', '2020-05', '2020-06', '2020-07', '2020-08', '2020-09', '2020-10', '2020-11', '2020-12', '2021-01', '2021-02', '2021-03', '2021-04', '2021-05', '2021-06', '2021-07', '2021-08', '2021-09', '2021-10', '2021-11', '2021-12', '2022-01', '2022-02', '2022-03', '2022-04', '2022-05', '2022-06', '2022-07', '2022-08', '2022-09', '2022-10', '2022-11', '2022-12', '2023-01', '2023-02', '2023-03', '2023-04', '2023-05', '2023-06', '2023-07', '2023-08', '2023-09', '2023-10', '2023-11', '2023-12', '2024-01', '2024-02', '2024-03', '2024-04', '2024-05']\n",
      "Average Open Prices:  [71.66152380952381, 73.09915789473685, 59.08313636363636, 61.60195238095238, 68.86834999999999, 71.58718181818182, 75.5065, 76.9962380952381, 75.94214285714285, 77.05095454545454, 87.0136, 88.39872727272727, 89.76326315789474, 102.51121052631579, 102.47339130434783, 113.45395238095237, 115.44784999999999, 120.95495454545454, 128.3488095238095, 138.0175, 141.5917142857143, 139.62319047619047, 147.2427619047619, 145.12672727272727, 136.2686, 137.4086842105263, 135.0811304347826, 129.1912, 112.79014285714285, 112.29057142857143, 112.02260000000001, 116.4245652173913, 103.55309523809522, 98.55285714285715, 93.94409523809524, 92.66571428571429, 92.49225, 96.3, 97.43565217391304, 105.39121052631579, 115.65636363636364, 122.34547619047619, 123.14725000000001, 130.43869565217392, 134.32425, 134.04522727272726, 133.1211904761905, 135.3115, 143.53452380952382, 142.83575000000002, 142.37475, 156.84568181818182, 167.305]\n",
      "Average Close Prices:  [71.8082380952381, 73.143, 59.25740909090909, 61.505809523809525, 69.06875, 71.5799090909091, 75.76618181818182, 77.25128571428571, 75.57533333333333, 77.09627272727272, 87.16965, 88.38572727272727, 90.01005263157894, 102.90473684210527, 102.38395652173914, 113.64995238095237, 115.42819999999999, 121.0464090909091, 128.56038095238097, 138.3714090909091, 141.17857142857142, 140.11295238095238, 146.75685714285714, 145.15145454545453, 135.96215, 136.713, 134.97830434782608, 128.07155, 113.19428571428571, 112.42985714285714, 112.65090000000001, 116.2586956521739, 103.33, 98.87857142857142, 93.90904761904761, 92.31523809523809, 93.0405, 96.41684210526316, 98.06, 105.71105263157895, 116.12409090909091, 122.53, 123.0545, 130.54913043478263, 134.30325, 134.17659090909092, 133.38238095238097, 135.5745, 143.84214285714285, 142.834, 142.4475, 157.18681818181818, 168.454]\n"
     ]
    },
    {
     "name": "stderr",
     "output_type": "stream",
     "text": [
      "C:\\Users\\aomid\\AppData\\Local\\Temp\\ipykernel_31516\\422958320.py:2: SettingWithCopyWarning: \n",
      "A value is trying to be set on a copy of a slice from a DataFrame.\n",
      "Try using .loc[row_indexer,col_indexer] = value instead\n",
      "\n",
      "See the caveats in the documentation: https://pandas.pydata.org/pandas-docs/stable/user_guide/indexing.html#returning-a-view-versus-a-copy\n",
      "  filtered_df['year_month'] = filtered_df['date'].dt.to_period('M')\n"
     ]
    },
    {
     "data": {
      "text/html": [
       "\n",
       "        <iframe\n",
       "            width=\"100%\"\n",
       "            height=\"600\"\n",
       "            src=\"http://localhost:53122\"\n",
       "            frameborder=\"0\"\n",
       "            allowfullscreen\n",
       "            \n",
       "        ></iframe>\n",
       "        "
      ],
      "text/plain": [
       "<IPython.lib.display.IFrame at 0x26990e59520>"
      ]
     },
     "execution_count": 9,
     "metadata": {},
     "output_type": "execute_result"
    }
   ],
   "source": [
    "\n",
    "\n",
    "\n",
    "# Group the data by year and month and calculate the average open and close prices\n",
    "filtered_df['year_month'] = filtered_df['date'].dt.to_period('M')\n",
    "monthwise = filtered_df.groupby('year_month')[['open', 'close']].mean().reset_index()\n",
    "\n",
    "# Extract year-month names, open prices, and close prices\n",
    "months = monthwise['year_month'].dt.strftime('%Y-%m').tolist()\n",
    "opens = monthwise['open'].tolist()\n",
    "closes = monthwise['close'].tolist()\n",
    "\n",
    "# Print the calculated averages to verify\n",
    "print(\"Months: \", months)\n",
    "print(\"Average Open Prices: \", opens)\n",
    "print(\"Average Close Prices: \", closes)\n",
    "\n",
    "# Initialize the bar chart\n",
    "chart = lc.BarChart(\n",
    "    vertical=True,\n",
    "    theme=lc.Themes.White,\n",
    "    title='Stacked Bar Chart: Monthwise Comparison of Open and Close Prices'\n",
    ")\n",
    "\n",
    "# Set data for the chart using the aggregated values\n",
    "chart.set_data_stacked(\n",
    "    months,\n",
    "    [\n",
    "        {'subCategory': 'Open Price', 'values': opens},\n",
    "        {'subCategory': 'Close Price', 'values': closes}\n",
    "    ]\n",
    ")\n",
    "\n",
    "chart.set_value_label_display_mode('hidden')  # Hides value labels\n",
    "chart.add_legend().add(chart)\n",
    "\n",
    "# Open the chart\n",
    "chart.open()\n"
   ]
  },
  {
   "cell_type": "code",
   "execution_count": 10,
   "metadata": {},
   "outputs": [
    {
     "data": {
      "text/html": [
       "\n",
       "        <iframe\n",
       "            width=\"100%\"\n",
       "            height=\"600\"\n",
       "            src=\"http://localhost:53123\"\n",
       "            frameborder=\"0\"\n",
       "            allowfullscreen\n",
       "            \n",
       "        ></iframe>\n",
       "        "
      ],
      "text/plain": [
       "<IPython.lib.display.IFrame at 0x26990f19820>"
      ]
     },
     "execution_count": 10,
     "metadata": {},
     "output_type": "execute_result"
    }
   ],
   "source": [
    "\n",
    "# Sample DataFrame assuming 'filtered_df' with 'date', 'open', and 'close' columns\n",
    "filtered_df = pd.DataFrame({\n",
    "    'date': pd.date_range(start='2020-01-01', periods=2000, freq='D'),\n",
    "    'open': np.random.rand(2000) * 100,\n",
    "    'close': np.random.rand(2000) * 100\n",
    "})\n",
    "\n",
    "# Define the date range\n",
    "start_date = '2020-01-01'\n",
    "end_date = '2024-05-14'\n",
    "\n",
    "# Filter the DataFrame to include only data within the specified date range\n",
    "filtered_df = filtered_df[(filtered_df['date'] >= start_date) & (filtered_df['date'] <= end_date)]\n",
    "\n",
    "# Convert dates to timestamps for x-axis\n",
    "filtered_df['Timestamp'] = filtered_df['date'].apply(lambda x: x.timestamp() * 1000)\n",
    "\n",
    "# Initialize and configure the chart\n",
    "chart = lc.ChartXY(\n",
    "    theme=lc.Themes.White,\n",
    "    title='Area Chart: Open and Close Prices'\n",
    ")\n",
    "\n",
    "# Define the x values (timestamps) and y values (open and close prices)\n",
    "x_values = filtered_df['Timestamp'].tolist()\n",
    "open_prices = filtered_df['open'].tolist()\n",
    "close_prices = filtered_df['close'].tolist()\n",
    "\n",
    "# Prepare series data for open and close prices\n",
    "series_data = [open_prices, close_prices]\n",
    "\n",
    "legend_labels = ['Open Prices', 'Close Prices']  # Labels for the legend\n",
    "\n",
    "# Add the legend\n",
    "legend = chart.add_legend()\n",
    "\n",
    "for i, data in enumerate(series_data):\n",
    "    series = chart.add_area_series()\n",
    "    if i > 0:\n",
    "        # Offset the subsequent series by the previous series\n",
    "        data = [data[j] + series_data[i-1][j] for j in range(len(data))]\n",
    "    series.add(x_values, data)\n",
    "    series.set_name(legend_labels[i])  # Set the name for each series in the legend\n",
    "    legend.add(series)  # Add series to the legend\n",
    "\n",
    "# Configure the x-axis to display datetime\n",
    "axis_x = chart.get_default_x_axis()\n",
    "axis_x.set_tick_strategy('DateTime')\n",
    "\n",
    "# Configure the y-axis to start from 0\n",
    "max_y_value = max(max(open_prices), max(close_prices))  # Calculate the maximum y value from the data\n",
    "axis_y = chart.get_default_y_axis()\n",
    "axis_y.set_interval(0, max_y_value + 10)  # Setting minimum to 0 and slightly above the max value for padding\n",
    "\n",
    "# Open the chart\n",
    "chart.open()\n"
   ]
  },
  {
   "cell_type": "code",
   "execution_count": 11,
   "metadata": {},
   "outputs": [
    {
     "name": "stderr",
     "output_type": "stream",
     "text": [
      "C:\\Users\\aomid\\AppData\\Local\\Temp\\ipykernel_31516\\1289222104.py:5: SettingWithCopyWarning: \n",
      "A value is trying to be set on a copy of a slice from a DataFrame.\n",
      "Try using .loc[row_indexer,col_indexer] = value instead\n",
      "\n",
      "See the caveats in the documentation: https://pandas.pydata.org/pandas-docs/stable/user_guide/indexing.html#returning-a-view-versus-a-copy\n",
      "  filtered_df['year_month'] = filtered_df['date'].dt.to_period('M')\n"
     ]
    },
    {
     "data": {
      "text/html": [
       "\n",
       "        <iframe\n",
       "            width=\"100%\"\n",
       "            height=\"600\"\n",
       "            src=\"http://localhost:53124\"\n",
       "            frameborder=\"0\"\n",
       "            allowfullscreen\n",
       "            \n",
       "        ></iframe>\n",
       "        "
      ],
      "text/plain": [
       "<IPython.lib.display.IFrame at 0x26990fb4f80>"
      ]
     },
     "execution_count": 11,
     "metadata": {},
     "output_type": "execute_result"
    },
    {
     "name": "stderr",
     "output_type": "stream",
     "text": [
      "127.0.0.1 - - [03/Jun/2024 14:15:08] \"GET / HTTP/1.1\" 200 -\n"
     ]
    }
   ],
   "source": [
    "\n",
    "# Filter the DataFrame to include only data within the specified date range\n",
    "filtered_df = df_googl[(df_googl['date'] >= start_date) & (df_googl['date'] <= end_date)]\n",
    "\n",
    "# Group the data by year and month and calculate the average high and low prices\n",
    "filtered_df['year_month'] = filtered_df['date'].dt.to_period('M')\n",
    "monthwise_high = filtered_df.groupby('year_month')['high'].mean().reset_index()\n",
    "monthwise_low = filtered_df.groupby('year_month')['low'].mean().reset_index()\n",
    "\n",
    "# Merge high and low price DataFrames\n",
    "monthwise = pd.merge(monthwise_high, monthwise_low, on='year_month')\n",
    "monthwise.columns = ['year_month', 'high', 'low']\n",
    "\n",
    "# Extract year-month names, high prices, and low prices\n",
    "months = monthwise['year_month'].dt.strftime('%Y-%m').tolist()\n",
    "highs = monthwise['high'].tolist()\n",
    "lows = monthwise['low'].tolist()\n",
    "\n",
    "# Initialize the bar chart\n",
    "chart = lc.BarChart(\n",
    "    vertical=True,  # Vertical bars\n",
    "    theme=lc.Themes.White,  # White theme\n",
    "    title='Grouped Bar Chart: Monthwise High and Low Prices'  # Title of the chart\n",
    ")\n",
    "\n",
    "# Group the data for high and low prices\n",
    "chart.set_data_grouped(\n",
    "    months,\n",
    "    [\n",
    "        {'subCategory': 'High Price', 'values': highs},\n",
    "        {'subCategory': 'Low Price', 'values': lows}\n",
    "    ]\n",
    ")\n",
    "\n",
    "# Set sorting to alphabetical, which will sort by month names\n",
    "chart.set_sorting('alphabetical')\n",
    "\n",
    "# Add a legend to the chart to differentiate between high and low prices\n",
    "chart.add_legend().add(chart)\n",
    "\n",
    "# Open the chart to display it\n",
    "chart.open()\n"
   ]
  },
  {
   "cell_type": "code",
   "execution_count": 12,
   "metadata": {},
   "outputs": [
    {
     "data": {
      "text/html": [
       "\n",
       "        <iframe\n",
       "            width=\"100%\"\n",
       "            height=\"600\"\n",
       "            src=\"http://localhost:53125\"\n",
       "            frameborder=\"0\"\n",
       "            allowfullscreen\n",
       "            \n",
       "        ></iframe>\n",
       "        "
      ],
      "text/plain": [
       "<IPython.lib.display.IFrame at 0x26990fb4050>"
      ]
     },
     "execution_count": 12,
     "metadata": {},
     "output_type": "execute_result"
    },
    {
     "name": "stderr",
     "output_type": "stream",
     "text": [
      "127.0.0.1 - - [03/Jun/2024 14:15:09] \"GET / HTTP/1.1\" 200 -\n"
     ]
    }
   ],
   "source": [
    "# Line Series\n",
    "# Assuming df_google is already set up and filtered\n",
    "df_googl['date'] = pd.to_datetime(df_googl['date'])\n",
    "specified_start_date = pd.to_datetime('2020-01-01')\n",
    "specified_end_date = pd.to_datetime('2024-05-14')\n",
    "filtered_df = df_googl[(df_googl['date'] >= specified_start_date) & (df_googl['date'] <= specified_end_date)]\n",
    "\n",
    "# Initialize a 2D chart\n",
    "chart = lc.ChartXY(\n",
    "    theme=lc.Themes.Black,\n",
    "    title='Line Chart: Stock Analysis Chart'\n",
    ")\n",
    "\n",
    "# Dispose the default x-axis and create a new one suited for datetime\n",
    "chart.get_default_x_axis().dispose()\n",
    "axis_x = chart.add_x_axis(axis_type='linear-highPrecision')\n",
    "axis_x.set_tick_strategy('DateTime')\n",
    "\n",
    "# Configure the x-axis to display dates\n",
    "axis_x.set_interval(\n",
    "    start=filtered_df['date'].min().timestamp() * 1000, \n",
    "    end=filtered_df['date'].max().timestamp() * 1000\n",
    ")\n",
    "\n",
    "# Adding legend to the chart\n",
    "legend = chart.add_legend()\n",
    "\n",
    "# Add series for each stock parameter\n",
    "params = ['open', 'close', 'high', 'low']\n",
    "for param in params:\n",
    "    series = chart.add_line_series()\n",
    "    series.set_line_thickness(2)\n",
    "    x_values = filtered_df['date'].apply(lambda x: x.timestamp() * 1000).tolist()\n",
    "    y_values = filtered_df[param].tolist()\n",
    "    series.add(x_values, y_values)\n",
    "    # Hypothetical method to set series name\n",
    "    if hasattr(series, 'set_name'):\n",
    "        series.set_name(param)\n",
    "    legend.add(series)\n",
    "\n",
    "# Open the chart\n",
    "chart.open()"
   ]
  },
  {
   "cell_type": "code",
   "execution_count": 13,
   "metadata": {},
   "outputs": [
    {
     "data": {
      "text/html": [
       "\n",
       "        <iframe\n",
       "            width=\"100%\"\n",
       "            height=\"600\"\n",
       "            src=\"http://localhost:53126\"\n",
       "            frameborder=\"0\"\n",
       "            allowfullscreen\n",
       "            \n",
       "        ></iframe>\n",
       "        "
      ],
      "text/plain": [
       "<IPython.lib.display.IFrame at 0x26990f1bbf0>"
      ]
     },
     "execution_count": 13,
     "metadata": {},
     "output_type": "execute_result"
    },
    {
     "name": "stderr",
     "output_type": "stream",
     "text": [
      "127.0.0.1 - - [03/Jun/2024 14:15:14] \"GET / HTTP/1.1\" 200 -\n"
     ]
    }
   ],
   "source": [
    "# Point Line Series\n",
    "import lightningchart as lc\n",
    "import pandas as pd\n",
    "\n",
    "# Assuming df_google is already set up and filtered\n",
    "df_googl['date'] = pd.to_datetime(df_googl['date'])\n",
    "specified_start_date = pd.to_datetime('2020-01-01')\n",
    "specified_end_date = pd.to_datetime('2024-05-14')\n",
    "filtered_df = df_googl[(df_googl['date'] >= specified_start_date) & (df_googl['date'] <= specified_end_date)]\n",
    "\n",
    "# Initialize the chart\n",
    "chart = lc.ChartXY(\n",
    "    theme=lc.Themes.White,\n",
    "    title='Point Line Series: Stock Analysis Chart'\n",
    ")\n",
    "\n",
    "# Dispose the default x-axis and create a high precision datetime axis\n",
    "chart.get_default_x_axis().dispose()\n",
    "axis_x = chart.add_x_axis(axis_type='linear-highPrecision')\n",
    "axis_x.set_tick_strategy('DateTime')\n",
    "axis_x.set_interval(start=filtered_df['date'].min().timestamp() * 1000, end=filtered_df['date'].max().timestamp() * 1000)\n",
    "\n",
    "# Adding legend to the chart\n",
    "legend = chart.add_legend()\n",
    "\n",
    "# Create a list of series, each with a different point shape\n",
    "shapes = ['circle', 'triangle', 'square', 'diamond']\n",
    "params = ['open', 'close', 'high', 'low']\n",
    "colors = [lc.Color(255, 0, 0), lc.Color(0, 255, 0), lc.Color(0, 0, 255), lc.Color(255, 255, 0)]\n",
    "\n",
    "series_list = []\n",
    "for shape, param, color in zip(shapes, params, colors):\n",
    "    series = chart.add_point_line_series()\n",
    "    series.set_point_shape(shape)\n",
    "    series.set_point_size(10)\n",
    "    series.set_point_color(color)\n",
    "    series.set_line_thickness(2)\n",
    "    # Assuming a method exists to set the name\n",
    "    series.set_name(param)\n",
    "    legend.add(series)\n",
    "    series_list.append(series)\n",
    "\n",
    "# Populate each series with data\n",
    "for series, param in zip(series_list, params):\n",
    "    x_values = filtered_df['date'].apply(lambda x: x.timestamp() * 1000).tolist()\n",
    "    y_values = filtered_df[param].tolist()\n",
    "    series.add(x=x_values, y=y_values)\n",
    "\n",
    "# Open the chart to display it\n",
    "chart.open()\n",
    "\n",
    "\n"
   ]
  },
  {
   "cell_type": "code",
   "execution_count": 14,
   "metadata": {},
   "outputs": [
    {
     "data": {
      "text/html": [
       "\n",
       "        <iframe\n",
       "            width=\"100%\"\n",
       "            height=\"600\"\n",
       "            src=\"http://localhost:53127\"\n",
       "            frameborder=\"0\"\n",
       "            allowfullscreen\n",
       "            \n",
       "        ></iframe>\n",
       "        "
      ],
      "text/plain": [
       "<IPython.lib.display.IFrame at 0x26990fb73e0>"
      ]
     },
     "execution_count": 14,
     "metadata": {},
     "output_type": "execute_result"
    },
    {
     "name": "stderr",
     "output_type": "stream",
     "text": [
      "127.0.0.1 - - [03/Jun/2024 14:15:16] \"GET / HTTP/1.1\" 200 -\n"
     ]
    }
   ],
   "source": [
    "# 3D Line Chart\n",
    "# Assuming df_google is your DataFrame and includes the 'date', 'open', 'close', 'high', and 'low' columns\n",
    "df_googl['date'] = pd.to_datetime(df_googl['date'])\n",
    "\n",
    "# Set the date range and filter the DataFrame\n",
    "specified_start_date = pd.to_datetime('2020-01-01')\n",
    "specified_end_date = pd.to_datetime('2024-05-14')\n",
    "filtered_df = df_googl[(df_googl['date'] >= specified_start_date) & (df_googl['date'] <= specified_end_date)]\n",
    "\n",
    "# Initialize the 3D chart\n",
    "chart = lc.Chart3D(\n",
    "    theme=lc.Themes.White,\n",
    "    title='Stock Line Series 3D'\n",
    ")\n",
    "\n",
    "# Parameters to plot\n",
    "params = ['open', 'close', 'high', 'low']\n",
    "series_list = []\n",
    "\n",
    "# Adding legend to the chart\n",
    "legend = chart.add_legend()\n",
    "\n",
    "for idx, param in enumerate(params):\n",
    "    series = chart.add_line_series()\n",
    "    series.set_line_thickness(2)\n",
    "    series_list.append(series)\n",
    "    # Assuming an API call to set a name or description if it exists:\n",
    "    if hasattr(series, 'set_name'):\n",
    "        series.set_name(param)\n",
    "    legend.add(series)  # Adding each series to the legend\n",
    "\n",
    "# Generate data for each series\n",
    "for idx, param in enumerate(params):\n",
    "    x_values = filtered_df['date'].apply(lambda x: x.timestamp() * 1000).tolist()  # Convert to milliseconds\n",
    "    y_values = filtered_df[param].tolist()\n",
    "    z_values = [idx] * len(x_values)  # Use index as Z-value to separate lines vertically\n",
    "    for x, y, z in zip(x_values, y_values, z_values):\n",
    "        series_list[idx].add(x, y, z)\n",
    "\n",
    "# Configure the x-axis to handle datetime values correctly\n",
    "try:\n",
    "    axis_x = chart.get_default_x_axis()\n",
    "    axis_x.set_tick_strategy('DateTime')\n",
    "    axis_x.set_interval(\n",
    "        start=filtered_df['date'].min().timestamp() * 1000, \n",
    "        end=filtered_df['date'].max().timestamp() * 1000\n",
    "    )\n",
    "except AttributeError:\n",
    "    print(\"Custom tick labels are not directly supported in this context.\")\n",
    "\n",
    "# Open the chart to display it\n",
    "chart.open()"
   ]
  },
  {
   "cell_type": "code",
   "execution_count": 15,
   "metadata": {},
   "outputs": [
    {
     "name": "stdout",
     "output_type": "stream",
     "text": [
      "Shape of close dataframe: (1099, 2)\n"
     ]
    }
   ],
   "source": [
    "# Make separate dataframe with close price\n",
    "closedf = filtered_df[['date','close']]\n",
    "print(\"Shape of close dataframe:\", closedf.shape)"
   ]
  },
  {
   "cell_type": "code",
   "execution_count": 16,
   "metadata": {},
   "outputs": [
    {
     "name": "stderr",
     "output_type": "stream",
     "text": [
      "C:\\Users\\aomid\\AppData\\Local\\Temp\\ipykernel_31516\\4277178933.py:12: SettingWithCopyWarning: \n",
      "A value is trying to be set on a copy of a slice from a DataFrame.\n",
      "Try using .loc[row_indexer,col_indexer] = value instead\n",
      "\n",
      "See the caveats in the documentation: https://pandas.pydata.org/pandas-docs/stable/user_guide/indexing.html#returning-a-view-versus-a-copy\n",
      "  filtered_df['timestamp'] = filtered_df['date'].apply(lambda x: x.timestamp() * 1000)\n"
     ]
    },
    {
     "data": {
      "text/html": [
       "\n",
       "        <iframe\n",
       "            width=\"100%\"\n",
       "            height=\"600\"\n",
       "            src=\"http://localhost:53128\"\n",
       "            frameborder=\"0\"\n",
       "            allowfullscreen\n",
       "            \n",
       "        ></iframe>\n",
       "        "
      ],
      "text/plain": [
       "<IPython.lib.display.IFrame at 0x26990fb71a0>"
      ]
     },
     "execution_count": 16,
     "metadata": {},
     "output_type": "execute_result"
    },
    {
     "name": "stderr",
     "output_type": "stream",
     "text": [
      "127.0.0.1 - - [03/Jun/2024 14:15:17] \"GET / HTTP/1.1\" 200 -\n"
     ]
    }
   ],
   "source": [
    "# Line chart\n",
    "import pandas as pd\n",
    "import lightningchart as lc\n",
    "\n",
    "# Assuming df_google is already set up and filtered\n",
    "df_googl['date'] = pd.to_datetime(df_googl['date'])\n",
    "specified_start_date = pd.to_datetime('2020-01-01')\n",
    "specified_end_date = pd.to_datetime('2024-05-14')\n",
    "filtered_df = df_googl[(df_googl['date'] >= specified_start_date) & (df_googl['date'] <= specified_end_date)]\n",
    "\n",
    "# Convert dates to timestamps in milliseconds\n",
    "filtered_df['timestamp'] = filtered_df['date'].apply(lambda x: x.timestamp() * 1000)\n",
    "\n",
    "# Initialize a 2D chart with high precision datetime axis\n",
    "chart = lc.ChartXY(\n",
    "    theme=lc.Themes.White,\n",
    "    title='Line Chart: Stock Analysis Chart'\n",
    ")\n",
    "\n",
    "# Dispose the default x-axis and create a new one suited for datetime\n",
    "chart.get_default_x_axis().dispose()\n",
    "axis_x = chart.add_x_axis(axis_type='linear-highPrecision')\n",
    "axis_x.set_tick_strategy('DateTime')\n",
    "axis_x.set_interval(\n",
    "    start=filtered_df['timestamp'].min(), \n",
    "    end=filtered_df['timestamp'].max()\n",
    ")\n",
    "\n",
    "# Add a line series for 'close' prices\n",
    "close_series = chart.add_line_series()\n",
    "x_values = filtered_df['timestamp'].tolist()\n",
    "y_values = filtered_df['close'].tolist()\n",
    "close_series.add(x_values, y_values)\n",
    "close_series.set_line_thickness(2)\n",
    "\n",
    "# Name the series to correctly address the legend\n",
    "close_series.set_name('Close Prices')\n",
    "\n",
    "# Add a legend to the chart\n",
    "legend = chart.add_legend()\n",
    "legend.add(close_series)  # Attach the series to the legend with the correct label\n",
    "\n",
    "# Open the chart\n",
    "chart.open()\n"
   ]
  },
  {
   "cell_type": "code",
   "execution_count": 17,
   "metadata": {},
   "outputs": [
    {
     "name": "stdout",
     "output_type": "stream",
     "text": [
      "(1099, 2)\n",
      "   normalized_close       date\n",
      "0          0.131890 2020-01-02\n",
      "1          0.128888 2020-01-03\n",
      "2          0.144109 2020-01-06\n",
      "3          0.142977 2020-01-07\n",
      "4          0.147137 2020-01-08\n"
     ]
    }
   ],
   "source": [
    "# Normalizing / scaling close value between 0 to 1\n",
    "# Assuming df_google is already set up and filtered\n",
    "df_googl['date'] = pd.to_datetime(df_googl['date'])\n",
    "specified_start_date = pd.to_datetime('2020-01-01')\n",
    "specified_end_date = pd.to_datetime('2024-05-14')\n",
    "filtered_df = df_googl[(df_googl['date'] >= specified_start_date) & (df_googl['date'] <= specified_end_date)]\n",
    "\n",
    "# Extract 'close' column and create a copy for normalization\n",
    "closedf = filtered_df[['date', 'close']].copy()\n",
    "close_stock = closedf.copy()\n",
    "\n",
    "# Remove the 'date' column for normalization\n",
    "close_stock_values = close_stock['close'].values.reshape(-1, 1)\n",
    "\n",
    "# Normalize/scale the close values between 0 and 1\n",
    "scaler = MinMaxScaler(feature_range=(0, 1))\n",
    "normalized_close_values = scaler.fit_transform(close_stock_values)\n",
    "\n",
    "# Update the DataFrame with normalized values\n",
    "normalized_close_df = pd.DataFrame(normalized_close_values, columns=['normalized_close'])\n",
    "normalized_close_df['date'] = closedf['date'].values\n",
    "\n",
    "# Print the shape of the normalized DataFrame\n",
    "print(normalized_close_df.shape)\n",
    "\n",
    "# Optionally, you can inspect the first few rows to verify\n",
    "print(normalized_close_df.head())"
   ]
  },
  {
   "cell_type": "code",
   "execution_count": 18,
   "metadata": {},
   "outputs": [
    {
     "data": {
      "text/html": [
       "\n",
       "        <iframe\n",
       "            width=\"100%\"\n",
       "            height=\"600\"\n",
       "            src=\"http://localhost:53129\"\n",
       "            frameborder=\"0\"\n",
       "            allowfullscreen\n",
       "            \n",
       "        ></iframe>\n",
       "        "
      ],
      "text/plain": [
       "<IPython.lib.display.IFrame at 0x26991788380>"
      ]
     },
     "execution_count": 18,
     "metadata": {},
     "output_type": "execute_result"
    },
    {
     "name": "stderr",
     "output_type": "stream",
     "text": [
      "127.0.0.1 - - [03/Jun/2024 14:15:23] \"GET / HTTP/1.1\" 200 -\n"
     ]
    }
   ],
   "source": [
    "# 2D chart for Normalization\n",
    "chart = lc.ChartXY(\n",
    "    theme=lc.Themes.White,\n",
    "    title='Normalized Close Prices'\n",
    ")\n",
    "\n",
    "# Dispose the default x-axis and create a new one suited for datetime\n",
    "chart.get_default_x_axis().dispose()\n",
    "axis_x = chart.add_x_axis(axis_type='linear-highPrecision')\n",
    "axis_x.set_tick_strategy('DateTime')\n",
    "axis_x.set_interval(\n",
    "    start=normalized_close_df['date'].min().timestamp() * 1000, \n",
    "    end=normalized_close_df['date'].max().timestamp() * 1000\n",
    ")\n",
    "\n",
    "# Add a line series for normalized 'close' prices\n",
    "normalized_series = chart.add_line_series()\n",
    "x_values = normalized_close_df['date'].apply(lambda x: x.timestamp() * 1000).tolist()\n",
    "y_values = normalized_close_df['normalized_close'].tolist()\n",
    "normalized_series.add(x_values, y_values)\n",
    "normalized_series.set_line_thickness(2)\n",
    "normalized_series.set_name('Normalized Close Prices')\n",
    "\n",
    "# Add a legend to the chart\n",
    "legend = chart.add_legend()\n",
    "legend.add(normalized_series)\n",
    "\n",
    "# Open the chart\n",
    "chart.open()\n"
   ]
  },
  {
   "cell_type": "code",
   "execution_count": 19,
   "metadata": {},
   "outputs": [
    {
     "name": "stdout",
     "output_type": "stream",
     "text": [
      "train_data:  (714, 2)\n",
      "test_data:  (385, 2)\n",
      "   normalized_close       date\n",
      "0          0.131890 2020-01-02\n",
      "1          0.128888 2020-01-03\n",
      "2          0.144109 2020-01-06\n",
      "3          0.142977 2020-01-07\n",
      "4          0.147137 2020-01-08\n",
      "     normalized_close       date\n",
      "714          0.316689 2022-11-01\n",
      "715          0.287338 2022-11-02\n",
      "716          0.257650 2022-11-03\n",
      "717          0.284067 2022-11-04\n",
      "718          0.300085 2022-11-07\n"
     ]
    }
   ],
   "source": [
    "# Split the data into training and testing sets\n",
    "training_size = int(len(normalized_close_df) * 0.65)\n",
    "test_size = len(normalized_close_df) - training_size\n",
    "train_data, test_data = normalized_close_df.iloc[0:training_size, :], normalized_close_df.iloc[training_size:len(normalized_close_df), :]\n",
    "\n",
    "# Print the shapes of the training and testing datasets\n",
    "print(\"train_data: \", train_data.shape)\n",
    "print(\"test_data: \", test_data.shape)\n",
    "\n",
    "# Optionally, you can inspect the first few rows to verify\n",
    "print(train_data.head())\n",
    "print(test_data.head())\n"
   ]
  },
  {
   "cell_type": "code",
   "execution_count": 20,
   "metadata": {},
   "outputs": [
    {
     "name": "stdout",
     "output_type": "stream",
     "text": [
      "X_train:  (698, 15)\n",
      "y_train:  (698,)\n",
      "X_test:  (369, 15)\n",
      "y_test (369,)\n"
     ]
    }
   ],
   "source": [
    "# Function to create dataset matrix for time-series prediction\n",
    "def create_dataset(dataset, time_step=1):\n",
    "    dataX, dataY = [], []\n",
    "    for i in range(len(dataset)-time_step-1):\n",
    "        a = dataset[i:(i+time_step), 0]   \n",
    "        dataX.append(a)\n",
    "        dataY.append(dataset[i + time_step, 0])\n",
    "    return np.array(dataX), np.array(dataY)\n",
    "\n",
    "# Reshape the data into X=t,t+1,t+2,t+3 and Y=t+4\n",
    "time_step = 15\n",
    "X_train, y_train = create_dataset(train_data[['normalized_close']].values, time_step)\n",
    "X_test, y_test = create_dataset(test_data[['normalized_close']].values, time_step)\n",
    "\n",
    "# Print the shapes of the datasets\n",
    "print(\"X_train: \", X_train.shape)\n",
    "print(\"y_train: \", y_train.shape)\n",
    "print(\"X_test: \", X_test.shape)\n",
    "print(\"y_test\", y_test.shape)\n"
   ]
  },
  {
   "cell_type": "code",
   "execution_count": 21,
   "metadata": {},
   "outputs": [
    {
     "data": {
      "text/html": [
       "\n",
       "        <iframe\n",
       "            width=\"100%\"\n",
       "            height=\"600\"\n",
       "            src=\"http://localhost:53130\"\n",
       "            frameborder=\"0\"\n",
       "            allowfullscreen\n",
       "            \n",
       "        ></iframe>\n",
       "        "
      ],
      "text/plain": [
       "<IPython.lib.display.IFrame at 0x269917893a0>"
      ]
     },
     "execution_count": 21,
     "metadata": {},
     "output_type": "execute_result"
    },
    {
     "name": "stderr",
     "output_type": "stream",
     "text": [
      "127.0.0.1 - - [03/Jun/2024 14:15:25] \"GET / HTTP/1.1\" 200 -\n"
     ]
    }
   ],
   "source": [
    "# Visualization of Training Data\n",
    "# Initialize a new 2D chart for training data visualization\n",
    "chart_train = lc.ChartXY(\n",
    "    theme=lc.Themes.White,\n",
    "    title='Training Data: Normalized Close Prices'\n",
    ")\n",
    "\n",
    "# Dispose the default x-axis and create a new one suited for datetime\n",
    "chart_train.get_default_x_axis().dispose()\n",
    "axis_x_train = chart_train.add_x_axis(axis_type='linear-highPrecision')\n",
    "axis_x_train.set_tick_strategy('DateTime')\n",
    "axis_x_train.set_interval(\n",
    "    start=train_data['date'].min().timestamp() * 1000, \n",
    "    end=train_data['date'].max().timestamp() * 1000\n",
    ")\n",
    "\n",
    "# Add a line series for training 'close' prices\n",
    "train_series = chart_train.add_line_series()\n",
    "x_values_train = train_data['date'].apply(lambda x: x.timestamp() * 1000).tolist()\n",
    "y_values_train = train_data['normalized_close'].tolist()\n",
    "train_series.add(x_values_train, y_values_train)\n",
    "train_series.set_line_thickness(2)\n",
    "train_series.set_name('Training Close Prices')\n",
    "\n",
    "# Add a legend to the chart\n",
    "legend_train = chart_train.add_legend()\n",
    "legend_train.add(train_series)\n",
    "\n",
    "# Open the training data chart\n",
    "chart_train.open()\n"
   ]
  },
  {
   "cell_type": "code",
   "execution_count": 22,
   "metadata": {},
   "outputs": [
    {
     "data": {
      "text/html": [
       "\n",
       "        <iframe\n",
       "            width=\"100%\"\n",
       "            height=\"600\"\n",
       "            src=\"http://localhost:53131\"\n",
       "            frameborder=\"0\"\n",
       "            allowfullscreen\n",
       "            \n",
       "        ></iframe>\n",
       "        "
      ],
      "text/plain": [
       "<IPython.lib.display.IFrame at 0x2699178a0c0>"
      ]
     },
     "execution_count": 22,
     "metadata": {},
     "output_type": "execute_result"
    },
    {
     "name": "stderr",
     "output_type": "stream",
     "text": [
      "127.0.0.1 - - [03/Jun/2024 14:15:26] \"GET / HTTP/1.1\" 200 -\n"
     ]
    }
   ],
   "source": [
    "# Visualization of Testing Data\n",
    "# Initialize a new 2D chart for testing data visualization\n",
    "chart_test = lc.ChartXY(\n",
    "    theme=lc.Themes.White,\n",
    "    title='Testing Data: Normalized Close Prices'\n",
    ")\n",
    "\n",
    "# Dispose the default x-axis and create a new one suited for datetime\n",
    "chart_test.get_default_x_axis().dispose()\n",
    "axis_x_test = chart_test.add_x_axis(axis_type='linear-highPrecision')\n",
    "axis_x_test.set_tick_strategy('DateTime')\n",
    "axis_x_test.set_interval(\n",
    "    start=test_data['date'].min().timestamp() * 1000, \n",
    "    end=test_data['date'].max().timestamp() * 1000\n",
    ")\n",
    "\n",
    "# Add a line series for testing 'close' prices\n",
    "test_series = chart_test.add_line_series()\n",
    "x_values_test = test_data['date'].apply(lambda x: x.timestamp() * 1000).tolist()\n",
    "y_values_test = test_data['normalized_close'].tolist()\n",
    "test_series.add(x_values_test, y_values_test)\n",
    "test_series.set_line_thickness(2)\n",
    "test_series.set_name('Testing Close Prices')\n",
    "\n",
    "# Add a legend to the chart\n",
    "legend_test = chart_test.add_legend()\n",
    "legend_test.add(test_series)\n",
    "\n",
    "# Open the testing data chart\n",
    "chart_test.open()\n"
   ]
  },
  {
   "cell_type": "markdown",
   "metadata": {},
   "source": [
    "**LSTM Model**"
   ]
  },
  {
   "cell_type": "code",
   "execution_count": 23,
   "metadata": {},
   "outputs": [
    {
     "name": "stdout",
     "output_type": "stream",
     "text": [
      "X_train:  (698, 15, 1)\n",
      "X_test:  (369, 15, 1)\n"
     ]
    }
   ],
   "source": [
    "# Preparing the Data\n",
    "X_train = X_train.reshape(X_train.shape[0], X_train.shape[1], 1)\n",
    "X_test = X_test.reshape(X_test.shape[0], X_test.shape[1], 1)\n",
    "\n",
    "print(\"X_train: \", X_train.shape)\n",
    "print(\"X_test: \", X_test.shape)"
   ]
  },
  {
   "cell_type": "code",
   "execution_count": 24,
   "metadata": {},
   "outputs": [
    {
     "name": "stderr",
     "output_type": "stream",
     "text": [
      "c:\\Python312\\Lib\\site-packages\\keras\\src\\layers\\rnn\\rnn.py:204: UserWarning: Do not pass an `input_shape`/`input_dim` argument to a layer. When using Sequential models, prefer using an `Input(shape)` object as the first layer in the model instead.\n",
      "  super().__init__(**kwargs)\n"
     ]
    },
    {
     "data": {
      "text/html": [
       "<pre style=\"white-space:pre;overflow-x:auto;line-height:normal;font-family:Menlo,'DejaVu Sans Mono',consolas,'Courier New',monospace\"><span style=\"font-weight: bold\">Model: \"sequential\"</span>\n",
       "</pre>\n"
      ],
      "text/plain": [
       "\u001b[1mModel: \"sequential\"\u001b[0m\n"
      ]
     },
     "metadata": {},
     "output_type": "display_data"
    },
    {
     "data": {
      "text/html": [
       "<pre style=\"white-space:pre;overflow-x:auto;line-height:normal;font-family:Menlo,'DejaVu Sans Mono',consolas,'Courier New',monospace\">┏━━━━━━━━━━━━━━━━━━━━━━━━━━━━━━━━━┳━━━━━━━━━━━━━━━━━━━━━━━━┳━━━━━━━━━━━━━━━┓\n",
       "┃<span style=\"font-weight: bold\"> Layer (type)                    </span>┃<span style=\"font-weight: bold\"> Output Shape           </span>┃<span style=\"font-weight: bold\">       Param # </span>┃\n",
       "┡━━━━━━━━━━━━━━━━━━━━━━━━━━━━━━━━━╇━━━━━━━━━━━━━━━━━━━━━━━━╇━━━━━━━━━━━━━━━┩\n",
       "│ lstm (<span style=\"color: #0087ff; text-decoration-color: #0087ff\">LSTM</span>)                     │ (<span style=\"color: #00d7ff; text-decoration-color: #00d7ff\">None</span>, <span style=\"color: #00af00; text-decoration-color: #00af00\">15</span>, <span style=\"color: #00af00; text-decoration-color: #00af00\">50</span>)         │        <span style=\"color: #00af00; text-decoration-color: #00af00\">10,400</span> │\n",
       "├─────────────────────────────────┼────────────────────────┼───────────────┤\n",
       "│ lstm_1 (<span style=\"color: #0087ff; text-decoration-color: #0087ff\">LSTM</span>)                   │ (<span style=\"color: #00d7ff; text-decoration-color: #00d7ff\">None</span>, <span style=\"color: #00af00; text-decoration-color: #00af00\">50</span>)             │        <span style=\"color: #00af00; text-decoration-color: #00af00\">20,200</span> │\n",
       "├─────────────────────────────────┼────────────────────────┼───────────────┤\n",
       "│ dense (<span style=\"color: #0087ff; text-decoration-color: #0087ff\">Dense</span>)                   │ (<span style=\"color: #00d7ff; text-decoration-color: #00d7ff\">None</span>, <span style=\"color: #00af00; text-decoration-color: #00af00\">25</span>)             │         <span style=\"color: #00af00; text-decoration-color: #00af00\">1,275</span> │\n",
       "├─────────────────────────────────┼────────────────────────┼───────────────┤\n",
       "│ dense_1 (<span style=\"color: #0087ff; text-decoration-color: #0087ff\">Dense</span>)                 │ (<span style=\"color: #00d7ff; text-decoration-color: #00d7ff\">None</span>, <span style=\"color: #00af00; text-decoration-color: #00af00\">1</span>)              │            <span style=\"color: #00af00; text-decoration-color: #00af00\">26</span> │\n",
       "└─────────────────────────────────┴────────────────────────┴───────────────┘\n",
       "</pre>\n"
      ],
      "text/plain": [
       "┏━━━━━━━━━━━━━━━━━━━━━━━━━━━━━━━━━┳━━━━━━━━━━━━━━━━━━━━━━━━┳━━━━━━━━━━━━━━━┓\n",
       "┃\u001b[1m \u001b[0m\u001b[1mLayer (type)                   \u001b[0m\u001b[1m \u001b[0m┃\u001b[1m \u001b[0m\u001b[1mOutput Shape          \u001b[0m\u001b[1m \u001b[0m┃\u001b[1m \u001b[0m\u001b[1m      Param #\u001b[0m\u001b[1m \u001b[0m┃\n",
       "┡━━━━━━━━━━━━━━━━━━━━━━━━━━━━━━━━━╇━━━━━━━━━━━━━━━━━━━━━━━━╇━━━━━━━━━━━━━━━┩\n",
       "│ lstm (\u001b[38;5;33mLSTM\u001b[0m)                     │ (\u001b[38;5;45mNone\u001b[0m, \u001b[38;5;34m15\u001b[0m, \u001b[38;5;34m50\u001b[0m)         │        \u001b[38;5;34m10,400\u001b[0m │\n",
       "├─────────────────────────────────┼────────────────────────┼───────────────┤\n",
       "│ lstm_1 (\u001b[38;5;33mLSTM\u001b[0m)                   │ (\u001b[38;5;45mNone\u001b[0m, \u001b[38;5;34m50\u001b[0m)             │        \u001b[38;5;34m20,200\u001b[0m │\n",
       "├─────────────────────────────────┼────────────────────────┼───────────────┤\n",
       "│ dense (\u001b[38;5;33mDense\u001b[0m)                   │ (\u001b[38;5;45mNone\u001b[0m, \u001b[38;5;34m25\u001b[0m)             │         \u001b[38;5;34m1,275\u001b[0m │\n",
       "├─────────────────────────────────┼────────────────────────┼───────────────┤\n",
       "│ dense_1 (\u001b[38;5;33mDense\u001b[0m)                 │ (\u001b[38;5;45mNone\u001b[0m, \u001b[38;5;34m1\u001b[0m)              │            \u001b[38;5;34m26\u001b[0m │\n",
       "└─────────────────────────────────┴────────────────────────┴───────────────┘\n"
      ]
     },
     "metadata": {},
     "output_type": "display_data"
    },
    {
     "data": {
      "text/html": [
       "<pre style=\"white-space:pre;overflow-x:auto;line-height:normal;font-family:Menlo,'DejaVu Sans Mono',consolas,'Courier New',monospace\"><span style=\"font-weight: bold\"> Total params: </span><span style=\"color: #00af00; text-decoration-color: #00af00\">31,901</span> (124.61 KB)\n",
       "</pre>\n"
      ],
      "text/plain": [
       "\u001b[1m Total params: \u001b[0m\u001b[38;5;34m31,901\u001b[0m (124.61 KB)\n"
      ]
     },
     "metadata": {},
     "output_type": "display_data"
    },
    {
     "data": {
      "text/html": [
       "<pre style=\"white-space:pre;overflow-x:auto;line-height:normal;font-family:Menlo,'DejaVu Sans Mono',consolas,'Courier New',monospace\"><span style=\"font-weight: bold\"> Trainable params: </span><span style=\"color: #00af00; text-decoration-color: #00af00\">31,901</span> (124.61 KB)\n",
       "</pre>\n"
      ],
      "text/plain": [
       "\u001b[1m Trainable params: \u001b[0m\u001b[38;5;34m31,901\u001b[0m (124.61 KB)\n"
      ]
     },
     "metadata": {},
     "output_type": "display_data"
    },
    {
     "data": {
      "text/html": [
       "<pre style=\"white-space:pre;overflow-x:auto;line-height:normal;font-family:Menlo,'DejaVu Sans Mono',consolas,'Courier New',monospace\"><span style=\"font-weight: bold\"> Non-trainable params: </span><span style=\"color: #00af00; text-decoration-color: #00af00\">0</span> (0.00 B)\n",
       "</pre>\n"
      ],
      "text/plain": [
       "\u001b[1m Non-trainable params: \u001b[0m\u001b[38;5;34m0\u001b[0m (0.00 B)\n"
      ]
     },
     "metadata": {},
     "output_type": "display_data"
    }
   ],
   "source": [
    "# Building the LSTM Model\n",
    "model = Sequential()\n",
    "model.add(LSTM(50, return_sequences=True, input_shape=(X_train.shape[1], 1)))\n",
    "model.add(LSTM(50, return_sequences=False))\n",
    "model.add(Dense(25))\n",
    "model.add(Dense(1))\n",
    "\n",
    "# Compile the model\n",
    "model.compile(optimizer='adam', loss='mean_squared_error')\n",
    "\n",
    "model.summary()"
   ]
  },
  {
   "cell_type": "code",
   "execution_count": 25,
   "metadata": {},
   "outputs": [
    {
     "name": "stdout",
     "output_type": "stream",
     "text": [
      "Epoch 1/100\n"
     ]
    },
    {
     "name": "stdout",
     "output_type": "stream",
     "text": [
      "11/11 - 3s - 296ms/step - loss: 0.0645 - val_loss: 0.0157\n",
      "Epoch 2/100\n",
      "11/11 - 0s - 34ms/step - loss: 0.0096 - val_loss: 0.0162\n",
      "Epoch 3/100\n",
      "11/11 - 0s - 17ms/step - loss: 0.0048 - val_loss: 0.0023\n",
      "Epoch 4/100\n",
      "11/11 - 0s - 19ms/step - loss: 0.0027 - val_loss: 0.0033\n",
      "Epoch 5/100\n",
      "11/11 - 0s - 17ms/step - loss: 0.0015 - val_loss: 0.0015\n",
      "Epoch 6/100\n",
      "11/11 - 0s - 19ms/step - loss: 0.0012 - val_loss: 0.0014\n",
      "Epoch 7/100\n",
      "11/11 - 0s - 20ms/step - loss: 0.0011 - val_loss: 0.0016\n",
      "Epoch 8/100\n",
      "11/11 - 0s - 17ms/step - loss: 0.0011 - val_loss: 0.0015\n",
      "Epoch 9/100\n",
      "11/11 - 0s - 17ms/step - loss: 0.0011 - val_loss: 0.0014\n",
      "Epoch 10/100\n",
      "11/11 - 0s - 20ms/step - loss: 0.0011 - val_loss: 0.0016\n",
      "Epoch 11/100\n",
      "11/11 - 0s - 21ms/step - loss: 0.0011 - val_loss: 0.0015\n",
      "Epoch 12/100\n",
      "11/11 - 0s - 23ms/step - loss: 0.0011 - val_loss: 0.0015\n",
      "Epoch 13/100\n",
      "11/11 - 0s - 25ms/step - loss: 0.0011 - val_loss: 0.0014\n",
      "Epoch 14/100\n",
      "11/11 - 0s - 24ms/step - loss: 0.0011 - val_loss: 0.0014\n",
      "Epoch 15/100\n",
      "11/11 - 0s - 18ms/step - loss: 0.0011 - val_loss: 0.0014\n",
      "Epoch 16/100\n",
      "11/11 - 0s - 17ms/step - loss: 0.0011 - val_loss: 0.0014\n",
      "Epoch 17/100\n",
      "11/11 - 0s - 17ms/step - loss: 0.0011 - val_loss: 0.0014\n",
      "Epoch 18/100\n",
      "11/11 - 0s - 17ms/step - loss: 0.0010 - val_loss: 0.0014\n",
      "Epoch 19/100\n",
      "11/11 - 0s - 19ms/step - loss: 0.0011 - val_loss: 0.0013\n",
      "Epoch 20/100\n",
      "11/11 - 0s - 18ms/step - loss: 0.0011 - val_loss: 0.0013\n",
      "Epoch 21/100\n",
      "11/11 - 0s - 18ms/step - loss: 0.0011 - val_loss: 0.0013\n",
      "Epoch 22/100\n",
      "11/11 - 0s - 17ms/step - loss: 0.0011 - val_loss: 0.0015\n",
      "Epoch 23/100\n",
      "11/11 - 0s - 19ms/step - loss: 0.0010 - val_loss: 0.0013\n",
      "Epoch 24/100\n",
      "11/11 - 0s - 18ms/step - loss: 0.0010 - val_loss: 0.0013\n",
      "Epoch 25/100\n",
      "11/11 - 0s - 16ms/step - loss: 0.0010 - val_loss: 0.0014\n",
      "Epoch 26/100\n",
      "11/11 - 0s - 16ms/step - loss: 9.9926e-04 - val_loss: 0.0015\n",
      "Epoch 27/100\n",
      "11/11 - 0s - 16ms/step - loss: 0.0010 - val_loss: 0.0014\n",
      "Epoch 28/100\n",
      "11/11 - 0s - 16ms/step - loss: 9.7808e-04 - val_loss: 0.0014\n",
      "Epoch 29/100\n",
      "11/11 - 0s - 16ms/step - loss: 9.7737e-04 - val_loss: 0.0017\n",
      "Epoch 30/100\n",
      "11/11 - 0s - 17ms/step - loss: 9.9916e-04 - val_loss: 0.0017\n",
      "Epoch 31/100\n",
      "11/11 - 0s - 19ms/step - loss: 9.9318e-04 - val_loss: 0.0015\n",
      "Epoch 32/100\n",
      "11/11 - 0s - 27ms/step - loss: 9.6766e-04 - val_loss: 0.0014\n",
      "Epoch 33/100\n",
      "11/11 - 0s - 24ms/step - loss: 9.4825e-04 - val_loss: 0.0013\n",
      "Epoch 34/100\n",
      "11/11 - 0s - 27ms/step - loss: 9.3796e-04 - val_loss: 0.0013\n",
      "Epoch 35/100\n",
      "11/11 - 0s - 22ms/step - loss: 9.2812e-04 - val_loss: 0.0013\n",
      "Epoch 36/100\n",
      "11/11 - 0s - 22ms/step - loss: 9.2301e-04 - val_loss: 0.0013\n",
      "Epoch 37/100\n",
      "11/11 - 0s - 24ms/step - loss: 9.2365e-04 - val_loss: 0.0012\n",
      "Epoch 38/100\n",
      "11/11 - 0s - 22ms/step - loss: 9.3261e-04 - val_loss: 0.0012\n",
      "Epoch 39/100\n",
      "11/11 - 0s - 23ms/step - loss: 0.0010 - val_loss: 0.0012\n",
      "Epoch 40/100\n",
      "11/11 - 0s - 22ms/step - loss: 9.8570e-04 - val_loss: 0.0015\n",
      "Epoch 41/100\n",
      "11/11 - 0s - 21ms/step - loss: 9.3980e-04 - val_loss: 0.0014\n",
      "Epoch 42/100\n",
      "11/11 - 0s - 22ms/step - loss: 9.0933e-04 - val_loss: 0.0012\n",
      "Epoch 43/100\n",
      "11/11 - 0s - 21ms/step - loss: 8.8385e-04 - val_loss: 0.0011\n",
      "Epoch 44/100\n",
      "11/11 - 0s - 23ms/step - loss: 8.8313e-04 - val_loss: 0.0011\n",
      "Epoch 45/100\n",
      "11/11 - 0s - 21ms/step - loss: 8.6843e-04 - val_loss: 0.0013\n",
      "Epoch 46/100\n",
      "11/11 - 0s - 21ms/step - loss: 8.6383e-04 - val_loss: 0.0012\n",
      "Epoch 47/100\n",
      "11/11 - 0s - 22ms/step - loss: 8.5288e-04 - val_loss: 0.0012\n",
      "Epoch 48/100\n",
      "11/11 - 0s - 22ms/step - loss: 8.7274e-04 - val_loss: 0.0011\n",
      "Epoch 49/100\n",
      "11/11 - 0s - 23ms/step - loss: 8.4560e-04 - val_loss: 0.0012\n",
      "Epoch 50/100\n",
      "11/11 - 0s - 21ms/step - loss: 8.5353e-04 - val_loss: 0.0011\n",
      "Epoch 51/100\n",
      "11/11 - 0s - 21ms/step - loss: 8.3318e-04 - val_loss: 0.0012\n",
      "Epoch 52/100\n",
      "11/11 - 0s - 22ms/step - loss: 8.5769e-04 - val_loss: 0.0013\n",
      "Epoch 53/100\n",
      "11/11 - 0s - 21ms/step - loss: 8.1430e-04 - val_loss: 0.0013\n",
      "Epoch 54/100\n",
      "11/11 - 0s - 23ms/step - loss: 8.0015e-04 - val_loss: 0.0012\n",
      "Epoch 55/100\n",
      "11/11 - 0s - 23ms/step - loss: 8.2846e-04 - val_loss: 0.0010\n",
      "Epoch 56/100\n",
      "11/11 - 0s - 24ms/step - loss: 8.1730e-04 - val_loss: 0.0012\n",
      "Epoch 57/100\n",
      "11/11 - 0s - 23ms/step - loss: 8.1019e-04 - val_loss: 0.0011\n",
      "Epoch 58/100\n",
      "11/11 - 0s - 24ms/step - loss: 8.0060e-04 - val_loss: 0.0010\n",
      "Epoch 59/100\n",
      "11/11 - 0s - 22ms/step - loss: 7.9708e-04 - val_loss: 0.0010\n",
      "Epoch 60/100\n",
      "11/11 - 0s - 22ms/step - loss: 7.5695e-04 - val_loss: 9.8936e-04\n",
      "Epoch 61/100\n",
      "11/11 - 0s - 23ms/step - loss: 7.7336e-04 - val_loss: 0.0011\n",
      "Epoch 62/100\n",
      "11/11 - 0s - 25ms/step - loss: 7.5901e-04 - val_loss: 9.8064e-04\n",
      "Epoch 63/100\n",
      "11/11 - 0s - 22ms/step - loss: 7.8532e-04 - val_loss: 0.0018\n",
      "Epoch 64/100\n",
      "11/11 - 0s - 27ms/step - loss: 9.1120e-04 - val_loss: 0.0011\n",
      "Epoch 65/100\n",
      "11/11 - 0s - 27ms/step - loss: 8.4100e-04 - val_loss: 0.0011\n",
      "Epoch 66/100\n",
      "11/11 - 0s - 26ms/step - loss: 7.7030e-04 - val_loss: 9.5820e-04\n",
      "Epoch 67/100\n",
      "11/11 - 0s - 24ms/step - loss: 7.7694e-04 - val_loss: 0.0011\n",
      "Epoch 68/100\n",
      "11/11 - 0s - 20ms/step - loss: 7.4194e-04 - val_loss: 0.0013\n",
      "Epoch 69/100\n",
      "11/11 - 0s - 16ms/step - loss: 7.8293e-04 - val_loss: 9.3832e-04\n",
      "Epoch 70/100\n",
      "11/11 - 0s - 16ms/step - loss: 7.0985e-04 - val_loss: 0.0013\n",
      "Epoch 71/100\n",
      "11/11 - 0s - 16ms/step - loss: 7.5212e-04 - val_loss: 0.0010\n",
      "Epoch 72/100\n",
      "11/11 - 0s - 16ms/step - loss: 7.5133e-04 - val_loss: 0.0011\n",
      "Epoch 73/100\n",
      "11/11 - 0s - 16ms/step - loss: 7.2120e-04 - val_loss: 9.6789e-04\n",
      "Epoch 74/100\n",
      "11/11 - 0s - 20ms/step - loss: 7.2087e-04 - val_loss: 9.2360e-04\n",
      "Epoch 75/100\n",
      "11/11 - 0s - 16ms/step - loss: 7.0851e-04 - val_loss: 0.0011\n",
      "Epoch 76/100\n",
      "11/11 - 0s - 17ms/step - loss: 7.1803e-04 - val_loss: 9.3970e-04\n",
      "Epoch 77/100\n",
      "11/11 - 0s - 21ms/step - loss: 7.1853e-04 - val_loss: 0.0012\n",
      "Epoch 78/100\n",
      "11/11 - 0s - 18ms/step - loss: 7.1866e-04 - val_loss: 8.9902e-04\n",
      "Epoch 79/100\n",
      "11/11 - 0s - 18ms/step - loss: 7.3930e-04 - val_loss: 9.1929e-04\n",
      "Epoch 80/100\n",
      "11/11 - 0s - 18ms/step - loss: 7.9077e-04 - val_loss: 0.0015\n",
      "Epoch 81/100\n",
      "11/11 - 0s - 17ms/step - loss: 7.1886e-04 - val_loss: 9.0532e-04\n",
      "Epoch 82/100\n",
      "11/11 - 0s - 16ms/step - loss: 7.1478e-04 - val_loss: 9.3945e-04\n",
      "Epoch 83/100\n",
      "11/11 - 0s - 16ms/step - loss: 7.5703e-04 - val_loss: 0.0014\n",
      "Epoch 84/100\n",
      "11/11 - 0s - 17ms/step - loss: 8.0550e-04 - val_loss: 9.0060e-04\n",
      "Epoch 85/100\n",
      "11/11 - 0s - 16ms/step - loss: 6.9970e-04 - val_loss: 9.5678e-04\n",
      "Epoch 86/100\n",
      "11/11 - 0s - 17ms/step - loss: 6.9669e-04 - val_loss: 8.8121e-04\n",
      "Epoch 87/100\n",
      "11/11 - 0s - 16ms/step - loss: 6.7529e-04 - val_loss: 9.0818e-04\n",
      "Epoch 88/100\n",
      "11/11 - 0s - 18ms/step - loss: 7.1487e-04 - val_loss: 0.0012\n",
      "Epoch 89/100\n",
      "11/11 - 0s - 17ms/step - loss: 7.0273e-04 - val_loss: 9.3430e-04\n",
      "Epoch 90/100\n",
      "11/11 - 0s - 17ms/step - loss: 6.9194e-04 - val_loss: 8.5271e-04\n",
      "Epoch 91/100\n",
      "11/11 - 0s - 17ms/step - loss: 7.3664e-04 - val_loss: 8.6533e-04\n",
      "Epoch 92/100\n",
      "11/11 - 0s - 16ms/step - loss: 7.5998e-04 - val_loss: 0.0013\n",
      "Epoch 93/100\n",
      "11/11 - 0s - 16ms/step - loss: 7.9837e-04 - val_loss: 0.0012\n",
      "Epoch 94/100\n",
      "11/11 - 0s - 16ms/step - loss: 7.8674e-04 - val_loss: 0.0011\n",
      "Epoch 95/100\n",
      "11/11 - 0s - 17ms/step - loss: 6.6833e-04 - val_loss: 8.4100e-04\n",
      "Epoch 96/100\n",
      "11/11 - 0s - 16ms/step - loss: 6.7410e-04 - val_loss: 9.0392e-04\n",
      "Epoch 97/100\n",
      "11/11 - 0s - 16ms/step - loss: 6.7532e-04 - val_loss: 8.3375e-04\n",
      "Epoch 98/100\n",
      "11/11 - 0s - 16ms/step - loss: 6.5423e-04 - val_loss: 9.6209e-04\n",
      "Epoch 99/100\n",
      "11/11 - 0s - 16ms/step - loss: 6.4823e-04 - val_loss: 8.2519e-04\n",
      "Epoch 100/100\n",
      "11/11 - 0s - 20ms/step - loss: 7.4041e-04 - val_loss: 8.7335e-04\n"
     ]
    },
    {
     "name": "stderr",
     "output_type": "stream",
     "text": [
      "127.0.0.1 - - [03/Jun/2024 14:14:46] \"GET / HTTP/1.1\" 200 -\n"
     ]
    },
    {
     "name": "stderr",
     "output_type": "stream",
     "text": [
      "127.0.0.1 - - [03/Jun/2024 14:14:47] \"GET / HTTP/1.1\" 200 -\n"
     ]
    },
    {
     "data": {
      "text/plain": [
       "<keras.src.callbacks.history.History at 0x269917e64b0>"
      ]
     },
     "execution_count": 25,
     "metadata": {},
     "output_type": "execute_result"
    }
   ],
   "source": [
    "# Training the Model\n",
    "model.fit(X_train, y_train, batch_size=64, epochs=100, validation_data=(X_test, y_test), verbose=2)"
   ]
  },
  {
   "cell_type": "code",
   "execution_count": 26,
   "metadata": {},
   "outputs": [
    {
     "name": "stdout",
     "output_type": "stream",
     "text": [
      "\u001b[1m22/22\u001b[0m \u001b[32m━━━━━━━━━━━━━━━━━━━━\u001b[0m\u001b[37m\u001b[0m \u001b[1m1s\u001b[0m 16ms/step\n",
      "\u001b[1m12/12\u001b[0m \u001b[32m━━━━━━━━━━━━━━━━━━━━\u001b[0m\u001b[37m\u001b[0m \u001b[1m0s\u001b[0m 3ms/step \n",
      "----Training Data Metrics----\n",
      "Train RMSE:  3.2361294190708736\n",
      "Train MSE:  10.472533616975989\n",
      "Train MAE:  2.4544381639540704\n",
      "-------------------------------\n",
      "----Testing Data Metrics----\n",
      "Test RMSE:  3.523931151069556\n",
      "Test MSE:  12.418090757478407\n",
      "Test MAE:  2.690019186376557\n"
     ]
    }
   ],
   "source": [
    "# Evaluating the Model\n",
    "# Making predictions\n",
    "train_predict = model.predict(X_train)\n",
    "test_predict = model.predict(X_test)\n",
    "\n",
    "# Inverting predictions back to original scale\n",
    "train_predict = scaler.inverse_transform(train_predict)\n",
    "y_train_inv = scaler.inverse_transform(y_train.reshape(-1, 1))\n",
    "test_predict = scaler.inverse_transform(test_predict)\n",
    "y_test_inv = scaler.inverse_transform(y_test.reshape(-1, 1))\n",
    "\n",
    "# Calculate RMSE, MSE, and MAE for training data\n",
    "train_rmse = math.sqrt(mean_squared_error(y_train_inv, train_predict))\n",
    "train_mse = mean_squared_error(y_train_inv, train_predict)\n",
    "train_mae = mean_absolute_error(y_train_inv, train_predict)\n",
    "\n",
    "# Calculate RMSE, MSE, and MAE for testing data\n",
    "test_rmse = math.sqrt(mean_squared_error(y_test_inv, test_predict))\n",
    "test_mse = mean_squared_error(y_test_inv, test_predict)\n",
    "test_mae = mean_absolute_error(y_test_inv, test_predict)\n",
    "\n",
    "# Print training and testing metrics\n",
    "print(\"----Training Data Metrics----\")\n",
    "print(\"Train RMSE: \", train_rmse)\n",
    "print(\"Train MSE: \", train_mse)\n",
    "print(\"Train MAE: \", train_mae)\n",
    "print(\"-------------------------------\")\n",
    "\n",
    "print(\"----Testing Data Metrics----\")\n",
    "print(\"Test RMSE: \", test_rmse)\n",
    "print(\"Test MSE: \", test_mse)\n",
    "print(\"Test MAE: \", test_mae)"
   ]
  },
  {
   "cell_type": "code",
   "execution_count": 27,
   "metadata": {},
   "outputs": [
    {
     "name": "stdout",
     "output_type": "stream",
     "text": [
      "Train R2 Score:  0.9855369789808638\n",
      "Test R2 Score:  0.972015690850915\n"
     ]
    }
   ],
   "source": [
    "# R2 score for regression\n",
    "train_r2 = r2_score(y_train_inv, train_predict)\n",
    "test_r2 = r2_score(y_test_inv, test_predict)\n",
    "\n",
    "# Display the metrics\n",
    "print(\"Train R2 Score: \", train_r2)\n",
    "print(\"Test R2 Score: \", test_r2)\n"
   ]
  },
  {
   "cell_type": "code",
   "execution_count": 28,
   "metadata": {},
   "outputs": [
    {
     "data": {
      "text/html": [
       "\n",
       "        <iframe\n",
       "            width=\"100%\"\n",
       "            height=\"600\"\n",
       "            src=\"http://localhost:53164\"\n",
       "            frameborder=\"0\"\n",
       "            allowfullscreen\n",
       "            \n",
       "        ></iframe>\n",
       "        "
      ],
      "text/plain": [
       "<IPython.lib.display.IFrame at 0x26990e8fbf0>"
      ]
     },
     "execution_count": 28,
     "metadata": {},
     "output_type": "execute_result"
    },
    {
     "name": "stderr",
     "output_type": "stream",
     "text": [
      "127.0.0.1 - - [03/Jun/2024 14:15:41] \"GET / HTTP/1.1\" 200 -\n"
     ]
    }
   ],
   "source": [
    "# Comparison of Actual vs Predicted Close Prices\n",
    "chart = lc.ChartXY(title='Comparison of Actual vs Predicted Close Prices')\n",
    "\n",
    "# Dispose the default x-axis and create a high precision datetime axis\n",
    "chart.get_default_x_axis().dispose()\n",
    "axis_x = chart.add_x_axis(axis_type='linear-highPrecision')\n",
    "axis_x.set_tick_strategy('DateTime')\n",
    "\n",
    "# Convert datetime to timestamps for plotting\n",
    "date_timestamps = [x.timestamp() * 1000 for x in filtered_df['date']]\n",
    "\n",
    "# Convert predictions, ensuring they are flat and adjusted for visualization\n",
    "trainPredictPlot_adjusted = [float(x[0]) if not np.isnan(x[0]) else np.nan for x in train_predict]\n",
    "testPredictPlot_adjusted = [float(x[0]) if not np.isnan(x[0]) else np.nan for x in test_predict]\n",
    "\n",
    "# Plot actual prices\n",
    "series_actual = chart.add_line_series()\n",
    "series_actual.add(x=date_timestamps, y=filtered_df['close'].tolist())\n",
    "series_actual.set_name('Actual Prices')  # Assuming set_name() or similar method is available\n",
    "\n",
    "# Plot train predicted prices if valid data exists\n",
    "if not np.all(np.isnan(trainPredictPlot_adjusted)):\n",
    "    series_train_predicted = chart.add_line_series()\n",
    "    series_train_predicted.add(x=date_timestamps[:len(trainPredictPlot_adjusted)], y=trainPredictPlot_adjusted)\n",
    "    series_train_predicted.set_name('Train Predictions')  # Assuming set_name() or similar method is available\n",
    "\n",
    "# Plot test predicted prices if valid data exists\n",
    "if not np.all(np.isnan(testPredictPlot_adjusted)):\n",
    "    series_test_predicted = chart.add_line_series()\n",
    "    series_test_predicted.add(x=date_timestamps[-len(testPredictPlot_adjusted):], y=testPredictPlot_adjusted)\n",
    "    series_test_predicted.set_name('Test Predictions')  # Assuming set_name() or similar method is available\n",
    "\n",
    "# Add a legend to the chart\n",
    "legend = chart.add_legend()\n",
    "legend.add(series_actual)  # Attach the actual series to the legend\n",
    "legend.add(series_train_predicted)  # Attach the train prediction series to the legend\n",
    "legend.add(series_test_predicted)  # Attach the test prediction series to the legend\n",
    "\n",
    "# Open the chart\n",
    "chart.open()\n"
   ]
  },
  {
   "cell_type": "code",
   "execution_count": 29,
   "metadata": {},
   "outputs": [
    {
     "name": "stdout",
     "output_type": "stream",
     "text": [
      "        date  predicted_close\n",
      "0 2024-05-15       170.959060\n",
      "1 2024-05-16       171.186960\n",
      "2 2024-05-17       171.412784\n",
      "3 2024-05-18       171.828548\n",
      "4 2024-05-19       172.164659\n",
      "5 2024-05-20       172.457144\n",
      "6 2024-05-21       172.755315\n",
      "7 2024-05-22       173.073103\n",
      "8 2024-05-23       173.383726\n",
      "9 2024-05-24       173.691322\n"
     ]
    },
    {
     "data": {
      "text/html": [
       "\n",
       "        <iframe\n",
       "            width=\"100%\"\n",
       "            height=\"600\"\n",
       "            src=\"http://localhost:53166\"\n",
       "            frameborder=\"0\"\n",
       "            allowfullscreen\n",
       "            \n",
       "        ></iframe>\n",
       "        "
      ],
      "text/plain": [
       "<IPython.lib.display.IFrame at 0x26994016720>"
      ]
     },
     "execution_count": 29,
     "metadata": {},
     "output_type": "execute_result"
    },
    {
     "name": "stderr",
     "output_type": "stream",
     "text": [
      "127.0.0.1 - - [03/Jun/2024 14:15:42] \"GET / HTTP/1.1\" 200 -\n"
     ]
    }
   ],
   "source": [
    "\n",
    "filtered_df = df_googl[(df_googl['date'] >= specified_start_date) & (df_googl['date'] <= specified_end_date)]\n",
    "\n",
    "# Normalize/scale the close values between 0 and 1\n",
    "close_stock_values = filtered_df['close'].values.reshape(-1, 1)\n",
    "scaler = MinMaxScaler(feature_range=(0, 1))\n",
    "normalized_close_values = scaler.fit_transform(close_stock_values)\n",
    "\n",
    "# Prepare the input data for prediction\n",
    "time_step = 15  # Assuming time_step from previous context\n",
    "test_data = normalized_close_values[-time_step:]\n",
    "x_input = test_data.reshape(1, -1)\n",
    "temp_input = list(x_input)\n",
    "temp_input = temp_input[0].tolist()\n",
    "\n",
    "# Predict next 10 days\n",
    "lst_output = []\n",
    "n_steps = time_step\n",
    "pred_days = 10\n",
    "\n",
    "for i in range(pred_days):\n",
    "    if len(temp_input) > time_step:\n",
    "        x_input = np.array(temp_input[1:])\n",
    "        x_input = x_input.reshape(1, -1)\n",
    "        x_input = x_input.reshape((1, n_steps, 1))\n",
    "        yhat = model.predict(x_input, verbose=0)\n",
    "        temp_input.extend(yhat[0].tolist())\n",
    "        temp_input = temp_input[1:]\n",
    "        lst_output.extend(yhat.tolist())\n",
    "    else:\n",
    "        x_input = x_input.reshape((1, n_steps, 1))\n",
    "        yhat = model.predict(x_input, verbose=0)\n",
    "        temp_input.extend(yhat[0].tolist())\n",
    "        lst_output.extend(yhat.tolist())\n",
    "\n",
    "# Invert the predictions back to original scale\n",
    "predicted_values = scaler.inverse_transform(np.array(lst_output).reshape(-1, 1))\n",
    "\n",
    "# Create a DataFrame to display the results\n",
    "future_dates = pd.date_range(start=filtered_df['date'].iloc[-1], periods=pred_days + 1, inclusive='right')\n",
    "prediction_df = pd.DataFrame({'date': future_dates, 'predicted_close': predicted_values.flatten()})\n",
    "\n",
    "# Display the prediction DataFrame\n",
    "print(prediction_df)\n",
    "\n",
    "# Prepare data for LC chart\n",
    "actual_dates = filtered_df['date'].tolist()\n",
    "actual_close = filtered_df['close'].tolist()\n",
    "predicted_dates = prediction_df['date'].tolist()\n",
    "predicted_close = prediction_df['predicted_close'].tolist()\n",
    "\n",
    "# Initialize LightningChart and set the license key\n",
    "chart = lc.ChartXY(title='Actual vs Predicted Close Prices')\n",
    "\n",
    "# Dispose the default x-axis and create a high precision datetime axis\n",
    "chart.get_default_x_axis().dispose()\n",
    "axis_x = chart.add_x_axis(axis_type='linear-highPrecision')\n",
    "axis_x.set_tick_strategy('DateTime')\n",
    "\n",
    "# Convert datetime to timestamps for plotting\n",
    "actual_date_timestamps = [x.timestamp() * 1000 for x in actual_dates]\n",
    "predicted_date_timestamps = [x.timestamp() * 1000 for x in predicted_dates]\n",
    "\n",
    "# Plot actual prices\n",
    "series_actual = chart.add_line_series()\n",
    "series_actual.add(x=actual_date_timestamps, y=actual_close)\n",
    "series_actual.set_name('Actual Prices')\n",
    "\n",
    "# Plot predicted prices\n",
    "series_predicted = chart.add_line_series()\n",
    "series_predicted.add(x=predicted_date_timestamps, y=predicted_close)\n",
    "series_predicted.set_name('Predicted Prices')\n",
    "\n",
    "# Add a legend to the chart\n",
    "legend = chart.add_legend()\n",
    "legend.add(series_actual)\n",
    "legend.add(series_predicted)\n",
    "\n",
    "# Open the chart\n",
    "chart.open()\n"
   ]
  },
  {
   "cell_type": "code",
   "execution_count": 30,
   "metadata": {},
   "outputs": [
    {
     "data": {
      "text/html": [
       "\n",
       "        <iframe\n",
       "            width=\"100%\"\n",
       "            height=\"600\"\n",
       "            src=\"http://localhost:53167\"\n",
       "            frameborder=\"0\"\n",
       "            allowfullscreen\n",
       "            \n",
       "        ></iframe>\n",
       "        "
      ],
      "text/plain": [
       "<IPython.lib.display.IFrame at 0x26992a83da0>"
      ]
     },
     "execution_count": 30,
     "metadata": {},
     "output_type": "execute_result"
    },
    {
     "name": "stderr",
     "output_type": "stream",
     "text": [
      "127.0.0.1 - - [03/Jun/2024 14:15:49] \"GET / HTTP/1.1\" 200 -\n"
     ]
    }
   ],
   "source": [
    "# Convert predictions, ensuring they are flat and adjusted for visualization\n",
    "trainPredictPlot_adjusted = [float(x[0]) if not np.isnan(x[0]) else np.nan for x in train_predict]\n",
    "testPredictPlot_adjusted = [float(x[0]) if not np.isnan(x[0]) else np.nan for x in test_predict]\n",
    "\n",
    "# Plot actual prices\n",
    "series_actual = chart.add_line_series()\n",
    "series_actual.add(x=date_timestamps, y=filtered_df['close'].tolist())\n",
    "series_actual.set_name('Actual Prices')  # Assuming set_name() or similar method is available\n",
    "\n",
    "# Plot train predicted prices if valid data exists\n",
    "if not np.all(np.isnan(trainPredictPlot_adjusted)):\n",
    "    series_train_predicted = chart.add_line_series()\n",
    "    series_train_predicted.add(x=date_timestamps[:len(trainPredictPlot_adjusted)], y=trainPredictPlot_adjusted)\n",
    "    series_train_predicted.set_name('Train Predictions')  # Assuming set_name() or similar method is available\n",
    "\n",
    "# Plot test predicted prices if valid data exists\n",
    "if not np.all(np.isnan(testPredictPlot_adjusted)):\n",
    "    series_test_predicted = chart.add_line_series()\n",
    "    series_test_predicted.add(x=date_timestamps[-len(testPredictPlot_adjusted):], y=testPredictPlot_adjusted)\n",
    "    series_test_predicted.set_name('Test Predictions')  # Assuming set_name() or similar method is available\n",
    "\n",
    "# Plot future predicted prices\n",
    "series_future_predicted = chart.add_line_series()\n",
    "series_future_predicted.add(x=predicted_date_timestamps, y=predicted_close)\n",
    "series_future_predicted.set_name('Future Predictions')\n",
    "\n",
    "# Add a legend to the chart\n",
    "legend = chart.add_legend()\n",
    "legend.add(series_actual)  # Attach the actual series to the legend\n",
    "legend.add(series_train_predicted)  # Attach the train prediction series to the legend\n",
    "legend.add(series_test_predicted)  # Attach the test prediction series to the legend\n",
    "legend.add(series_future_predicted)\n",
    "\n",
    "# Add text boxes to display metrics\n",
    "textbox1 = chart.add_textbox()\n",
    "textbox1.set_text(f'Train RMSE: {train_rmse:.2f}')\n",
    "textbox1.set_position(0.05, 0.95)\n",
    "\n",
    "textbox2 = chart.add_textbox()\n",
    "textbox2.set_text(f'Train MSE: {train_mse:.2f}')\n",
    "textbox2.set_position(0.05, 0.90)\n",
    "\n",
    "textbox3 = chart.add_textbox()\n",
    "textbox3.set_text(f'Train MAE: {train_mae:.2f}')\n",
    "textbox3.set_position(0.05, 0.85)\n",
    "\n",
    "textbox4 = chart.add_textbox()\n",
    "textbox4.set_text(f'Test RMSE: {test_rmse:.2f}')\n",
    "textbox4.set_position(0.05, 0.80)\n",
    "\n",
    "textbox5 = chart.add_textbox()\n",
    "textbox5.set_text(f'Test MSE: {test_mse:.2f}')\n",
    "textbox5.set_position(0.05, 0.75)\n",
    "\n",
    "textbox6 = chart.add_textbox()\n",
    "textbox6.set_text(f'Test MAE: {test_mae:.2f}')\n",
    "textbox6.set_position(0.05, 0.70)\n",
    "\n",
    "textbox7 = chart.add_textbox()\n",
    "textbox7.set_text(f'Train R²: {train_r2:.2f}')\n",
    "textbox7.set_position(0.05, 0.65)\n",
    "\n",
    "textbox8 = chart.add_textbox()\n",
    "textbox8.set_text(f'Test R²: {test_r2:.2f}')\n",
    "textbox8.set_position(0.05, 0.60)\n",
    "\n",
    "# Open the chart\n",
    "chart.open()"
   ]
  }
 ],
 "metadata": {
  "kernelspec": {
   "display_name": "Python 3",
   "language": "python",
   "name": "python3"
  },
  "language_info": {
   "codemirror_mode": {
    "name": "ipython",
    "version": 3
   },
   "file_extension": ".py",
   "mimetype": "text/x-python",
   "name": "python",
   "nbconvert_exporter": "python",
   "pygments_lexer": "ipython3",
   "version": "3.12.2"
  }
 },
 "nbformat": 4,
 "nbformat_minor": 2
}
